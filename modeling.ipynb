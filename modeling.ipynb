{
 "cells": [
  {
   "cell_type": "markdown",
   "id": "da8fca40",
   "metadata": {},
   "source": [
    "# Import Libraries"
   ]
  },
  {
   "cell_type": "code",
   "execution_count": 131,
   "id": "9e979a0e",
   "metadata": {},
   "outputs": [],
   "source": [
    "import pandas as pd\n",
    "import numpy as np\n",
    "import matplotlib.pyplot as plt\n",
    "import seaborn as sns\n",
    "from scipy.stats import pointbiserialr\n",
    "from sklearn.metrics import matthews_corrcoef\n",
    "from sklearn.model_selection import train_test_split\n",
    "from sklearn.linear_model import LogisticRegression\n",
    "from sklearn.preprocessing import StandardScaler\n",
    "from sklearn.compose import ColumnTransformer\n",
    "from imblearn.pipeline import Pipeline as ImbPipeline\n",
    "from sklearn.metrics import classification_report, confusion_matrix, roc_auc_score, recall_score, ConfusionMatrixDisplay\n",
    "from imblearn.over_sampling import SMOTE\n",
    "from imblearn.under_sampling import RandomUnderSampler\n",
    "\n"
   ]
  },
  {
   "cell_type": "markdown",
   "id": "5491d7e1",
   "metadata": {},
   "source": [
    "# Data Loading"
   ]
  },
  {
   "cell_type": "code",
   "execution_count": 2,
   "id": "1ec6067f",
   "metadata": {},
   "outputs": [
    {
     "data": {
      "text/html": [
       "<div>\n",
       "<style scoped>\n",
       "    .dataframe tbody tr th:only-of-type {\n",
       "        vertical-align: middle;\n",
       "    }\n",
       "\n",
       "    .dataframe tbody tr th {\n",
       "        vertical-align: top;\n",
       "    }\n",
       "\n",
       "    .dataframe thead th {\n",
       "        text-align: right;\n",
       "    }\n",
       "</style>\n",
       "<table border=\"1\" class=\"dataframe\">\n",
       "  <thead>\n",
       "    <tr style=\"text-align: right;\">\n",
       "      <th></th>\n",
       "      <th>application_id</th>\n",
       "      <th>age</th>\n",
       "      <th>monthly_income</th>\n",
       "      <th>loan_amount</th>\n",
       "      <th>previous_defaults</th>\n",
       "      <th>credit_score</th>\n",
       "      <th>default</th>\n",
       "      <th>leak_col_good</th>\n",
       "      <th>leak_col_subtle</th>\n",
       "    </tr>\n",
       "  </thead>\n",
       "  <tbody>\n",
       "    <tr>\n",
       "      <th>0</th>\n",
       "      <td>501000</td>\n",
       "      <td>41</td>\n",
       "      <td>13995609</td>\n",
       "      <td>5982664</td>\n",
       "      <td>0</td>\n",
       "      <td>624</td>\n",
       "      <td>0</td>\n",
       "      <td>0</td>\n",
       "      <td>-0.040</td>\n",
       "    </tr>\n",
       "    <tr>\n",
       "      <th>1</th>\n",
       "      <td>501001</td>\n",
       "      <td>58</td>\n",
       "      <td>13683833</td>\n",
       "      <td>3711198</td>\n",
       "      <td>0</td>\n",
       "      <td>809</td>\n",
       "      <td>0</td>\n",
       "      <td>0</td>\n",
       "      <td>0.001</td>\n",
       "    </tr>\n",
       "    <tr>\n",
       "      <th>2</th>\n",
       "      <td>501002</td>\n",
       "      <td>33</td>\n",
       "      <td>9417391</td>\n",
       "      <td>7172332</td>\n",
       "      <td>0</td>\n",
       "      <td>647</td>\n",
       "      <td>0</td>\n",
       "      <td>0</td>\n",
       "      <td>0.077</td>\n",
       "    </tr>\n",
       "    <tr>\n",
       "      <th>3</th>\n",
       "      <td>501003</td>\n",
       "      <td>45</td>\n",
       "      <td>6861811</td>\n",
       "      <td>8661056</td>\n",
       "      <td>0</td>\n",
       "      <td>450</td>\n",
       "      <td>0</td>\n",
       "      <td>0</td>\n",
       "      <td>0.038</td>\n",
       "    </tr>\n",
       "    <tr>\n",
       "      <th>4</th>\n",
       "      <td>501004</td>\n",
       "      <td>22</td>\n",
       "      <td>5640742</td>\n",
       "      <td>4520669</td>\n",
       "      <td>1</td>\n",
       "      <td>816</td>\n",
       "      <td>0</td>\n",
       "      <td>0</td>\n",
       "      <td>0.020</td>\n",
       "    </tr>\n",
       "    <tr>\n",
       "      <th>...</th>\n",
       "      <td>...</td>\n",
       "      <td>...</td>\n",
       "      <td>...</td>\n",
       "      <td>...</td>\n",
       "      <td>...</td>\n",
       "      <td>...</td>\n",
       "      <td>...</td>\n",
       "      <td>...</td>\n",
       "      <td>...</td>\n",
       "    </tr>\n",
       "    <tr>\n",
       "      <th>5995</th>\n",
       "      <td>506995</td>\n",
       "      <td>26</td>\n",
       "      <td>18253018</td>\n",
       "      <td>3690565</td>\n",
       "      <td>2</td>\n",
       "      <td>729</td>\n",
       "      <td>0</td>\n",
       "      <td>0</td>\n",
       "      <td>0.008</td>\n",
       "    </tr>\n",
       "    <tr>\n",
       "      <th>5996</th>\n",
       "      <td>506996</td>\n",
       "      <td>40</td>\n",
       "      <td>9944385</td>\n",
       "      <td>4082038</td>\n",
       "      <td>1</td>\n",
       "      <td>477</td>\n",
       "      <td>0</td>\n",
       "      <td>0</td>\n",
       "      <td>0.017</td>\n",
       "    </tr>\n",
       "    <tr>\n",
       "      <th>5997</th>\n",
       "      <td>506997</td>\n",
       "      <td>28</td>\n",
       "      <td>9048532</td>\n",
       "      <td>14760384</td>\n",
       "      <td>0</td>\n",
       "      <td>450</td>\n",
       "      <td>0</td>\n",
       "      <td>0</td>\n",
       "      <td>-0.054</td>\n",
       "    </tr>\n",
       "    <tr>\n",
       "      <th>5998</th>\n",
       "      <td>506998</td>\n",
       "      <td>51</td>\n",
       "      <td>6843160</td>\n",
       "      <td>11774594</td>\n",
       "      <td>0</td>\n",
       "      <td>561</td>\n",
       "      <td>0</td>\n",
       "      <td>0</td>\n",
       "      <td>0.026</td>\n",
       "    </tr>\n",
       "    <tr>\n",
       "      <th>5999</th>\n",
       "      <td>506999</td>\n",
       "      <td>35</td>\n",
       "      <td>12715733</td>\n",
       "      <td>8006387</td>\n",
       "      <td>0</td>\n",
       "      <td>774</td>\n",
       "      <td>0</td>\n",
       "      <td>0</td>\n",
       "      <td>0.008</td>\n",
       "    </tr>\n",
       "  </tbody>\n",
       "</table>\n",
       "<p>6000 rows × 9 columns</p>\n",
       "</div>"
      ],
      "text/plain": [
       "      application_id  age  monthly_income  loan_amount  previous_defaults  \\\n",
       "0             501000   41        13995609      5982664                  0   \n",
       "1             501001   58        13683833      3711198                  0   \n",
       "2             501002   33         9417391      7172332                  0   \n",
       "3             501003   45         6861811      8661056                  0   \n",
       "4             501004   22         5640742      4520669                  1   \n",
       "...              ...  ...             ...          ...                ...   \n",
       "5995          506995   26        18253018      3690565                  2   \n",
       "5996          506996   40         9944385      4082038                  1   \n",
       "5997          506997   28         9048532     14760384                  0   \n",
       "5998          506998   51         6843160     11774594                  0   \n",
       "5999          506999   35        12715733      8006387                  0   \n",
       "\n",
       "      credit_score  default  leak_col_good  leak_col_subtle  \n",
       "0              624        0              0           -0.040  \n",
       "1              809        0              0            0.001  \n",
       "2              647        0              0            0.077  \n",
       "3              450        0              0            0.038  \n",
       "4              816        0              0            0.020  \n",
       "...            ...      ...            ...              ...  \n",
       "5995           729        0              0            0.008  \n",
       "5996           477        0              0            0.017  \n",
       "5997           450        0              0           -0.054  \n",
       "5998           561        0              0            0.026  \n",
       "5999           774        0              0            0.008  \n",
       "\n",
       "[6000 rows x 9 columns]"
      ]
     },
     "execution_count": 2,
     "metadata": {},
     "output_type": "execute_result"
    }
   ],
   "source": [
    "df_raw = pd.read_csv('credit_scoring.csv')\n",
    "\n",
    "df_raw"
   ]
  },
  {
   "cell_type": "markdown",
   "id": "e16d09c9",
   "metadata": {},
   "source": [
    "Dataset have 6000 rows and 9 columns."
   ]
  },
  {
   "cell_type": "code",
   "execution_count": 3,
   "id": "fcd6de15",
   "metadata": {},
   "outputs": [
    {
     "data": {
      "text/html": [
       "<div>\n",
       "<style scoped>\n",
       "    .dataframe tbody tr th:only-of-type {\n",
       "        vertical-align: middle;\n",
       "    }\n",
       "\n",
       "    .dataframe tbody tr th {\n",
       "        vertical-align: top;\n",
       "    }\n",
       "\n",
       "    .dataframe thead th {\n",
       "        text-align: right;\n",
       "    }\n",
       "</style>\n",
       "<table border=\"1\" class=\"dataframe\">\n",
       "  <thead>\n",
       "    <tr style=\"text-align: right;\">\n",
       "      <th></th>\n",
       "      <th>application_id</th>\n",
       "      <th>age</th>\n",
       "      <th>monthly_income</th>\n",
       "      <th>loan_amount</th>\n",
       "      <th>previous_defaults</th>\n",
       "      <th>credit_score</th>\n",
       "      <th>default</th>\n",
       "      <th>leak_col_good</th>\n",
       "      <th>leak_col_subtle</th>\n",
       "    </tr>\n",
       "  </thead>\n",
       "  <tbody>\n",
       "    <tr>\n",
       "      <th>0</th>\n",
       "      <td>501000</td>\n",
       "      <td>41</td>\n",
       "      <td>13995609</td>\n",
       "      <td>5982664</td>\n",
       "      <td>0</td>\n",
       "      <td>624</td>\n",
       "      <td>0</td>\n",
       "      <td>0</td>\n",
       "      <td>-0.040</td>\n",
       "    </tr>\n",
       "    <tr>\n",
       "      <th>1</th>\n",
       "      <td>501001</td>\n",
       "      <td>58</td>\n",
       "      <td>13683833</td>\n",
       "      <td>3711198</td>\n",
       "      <td>0</td>\n",
       "      <td>809</td>\n",
       "      <td>0</td>\n",
       "      <td>0</td>\n",
       "      <td>0.001</td>\n",
       "    </tr>\n",
       "    <tr>\n",
       "      <th>2</th>\n",
       "      <td>501002</td>\n",
       "      <td>33</td>\n",
       "      <td>9417391</td>\n",
       "      <td>7172332</td>\n",
       "      <td>0</td>\n",
       "      <td>647</td>\n",
       "      <td>0</td>\n",
       "      <td>0</td>\n",
       "      <td>0.077</td>\n",
       "    </tr>\n",
       "    <tr>\n",
       "      <th>3</th>\n",
       "      <td>501003</td>\n",
       "      <td>45</td>\n",
       "      <td>6861811</td>\n",
       "      <td>8661056</td>\n",
       "      <td>0</td>\n",
       "      <td>450</td>\n",
       "      <td>0</td>\n",
       "      <td>0</td>\n",
       "      <td>0.038</td>\n",
       "    </tr>\n",
       "    <tr>\n",
       "      <th>4</th>\n",
       "      <td>501004</td>\n",
       "      <td>22</td>\n",
       "      <td>5640742</td>\n",
       "      <td>4520669</td>\n",
       "      <td>1</td>\n",
       "      <td>816</td>\n",
       "      <td>0</td>\n",
       "      <td>0</td>\n",
       "      <td>0.020</td>\n",
       "    </tr>\n",
       "  </tbody>\n",
       "</table>\n",
       "</div>"
      ],
      "text/plain": [
       "   application_id  age  monthly_income  loan_amount  previous_defaults  \\\n",
       "0          501000   41        13995609      5982664                  0   \n",
       "1          501001   58        13683833      3711198                  0   \n",
       "2          501002   33         9417391      7172332                  0   \n",
       "3          501003   45         6861811      8661056                  0   \n",
       "4          501004   22         5640742      4520669                  1   \n",
       "\n",
       "   credit_score  default  leak_col_good  leak_col_subtle  \n",
       "0           624        0              0           -0.040  \n",
       "1           809        0              0            0.001  \n",
       "2           647        0              0            0.077  \n",
       "3           450        0              0            0.038  \n",
       "4           816        0              0            0.020  "
      ]
     },
     "execution_count": 3,
     "metadata": {},
     "output_type": "execute_result"
    }
   ],
   "source": [
    "df_raw.head()"
   ]
  },
  {
   "cell_type": "code",
   "execution_count": 4,
   "id": "ea79a517",
   "metadata": {},
   "outputs": [
    {
     "name": "stdout",
     "output_type": "stream",
     "text": [
      "<class 'pandas.core.frame.DataFrame'>\n",
      "RangeIndex: 6000 entries, 0 to 5999\n",
      "Data columns (total 9 columns):\n",
      " #   Column             Non-Null Count  Dtype  \n",
      "---  ------             --------------  -----  \n",
      " 0   application_id     6000 non-null   int64  \n",
      " 1   age                6000 non-null   int64  \n",
      " 2   monthly_income     6000 non-null   int64  \n",
      " 3   loan_amount        6000 non-null   int64  \n",
      " 4   previous_defaults  6000 non-null   int64  \n",
      " 5   credit_score       6000 non-null   int64  \n",
      " 6   default            6000 non-null   int64  \n",
      " 7   leak_col_good      6000 non-null   int64  \n",
      " 8   leak_col_subtle    6000 non-null   float64\n",
      "dtypes: float64(1), int64(8)\n",
      "memory usage: 422.0 KB\n"
     ]
    }
   ],
   "source": [
    "df_raw.info()"
   ]
  },
  {
   "cell_type": "code",
   "execution_count": 5,
   "id": "50ff50e9",
   "metadata": {},
   "outputs": [
    {
     "data": {
      "text/plain": [
       "application_id       0\n",
       "age                  0\n",
       "monthly_income       0\n",
       "loan_amount          0\n",
       "previous_defaults    0\n",
       "credit_score         0\n",
       "default              0\n",
       "leak_col_good        0\n",
       "leak_col_subtle      0\n",
       "dtype: int64"
      ]
     },
     "execution_count": 5,
     "metadata": {},
     "output_type": "execute_result"
    }
   ],
   "source": [
    "df_raw.isnull().sum()"
   ]
  },
  {
   "cell_type": "markdown",
   "id": "0a3d4ca2",
   "metadata": {},
   "source": [
    "This dataset has 0 missing values"
   ]
  },
  {
   "cell_type": "code",
   "execution_count": 6,
   "id": "b1884482",
   "metadata": {},
   "outputs": [
    {
     "data": {
      "text/plain": [
       "0"
      ]
     },
     "execution_count": 6,
     "metadata": {},
     "output_type": "execute_result"
    }
   ],
   "source": [
    "df_raw.duplicated().sum()"
   ]
  },
  {
   "cell_type": "markdown",
   "id": "c5e9ad8b",
   "metadata": {},
   "source": [
    "This dataset has 0 duplicated data"
   ]
  },
  {
   "cell_type": "markdown",
   "id": "0a6d63a9",
   "metadata": {},
   "source": [
    "# Exploratory Data Analysis"
   ]
  },
  {
   "cell_type": "code",
   "execution_count": 7,
   "id": "541365aa",
   "metadata": {},
   "outputs": [
    {
     "data": {
      "image/png": "[encoded data removed]",
      "text/plain": [
       "<Figure size 1000x800 with 2 Axes>"
      ]
     },
     "metadata": {},
     "output_type": "display_data"
    }
   ],
   "source": [
    "# Select only numeric features\n",
    "numeric_features = df_raw.select_dtypes(include='number')\n",
    "\n",
    "# Compute correlation matrix\n",
    "corr_matrix = numeric_features.corr()\n",
    "\n",
    "# Plot heatmap\n",
    "plt.figure(figsize=(10, 8))\n",
    "sns.heatmap(corr_matrix, annot=True, cmap='coolwarm', center=0, fmt=\".2f\", linewidths=0.5)\n",
    "plt.title('Correlation Matrix Heatmap')\n",
    "plt.show()"
   ]
  },
  {
   "cell_type": "markdown",
   "id": "676fe07d",
   "metadata": {},
   "source": [
    "Based on the heatmap, the feature `leak_col_good` and `leak_col_subtle` demonstrated abnormally high correlation with the target variable `default`. This suggests that these features may contain information closely tied to the outcome itself. Including such features could leak to data leakage, resulting in overly optimistic model that fails to generalize. Therefore, these features were removed from the dataset before training to ensure the model generalizes well."
   ]
  },
  {
   "cell_type": "code",
   "execution_count": 8,
   "id": "20d5d193",
   "metadata": {},
   "outputs": [],
   "source": [
    "df = df_raw.copy()\n",
    "\n",
    "# Drop leakage features from dataframe\n",
    "df = df_raw.drop(columns=['leak_col_good', 'leak_col_subtle'])"
   ]
  },
  {
   "cell_type": "code",
   "execution_count": 9,
   "id": "580018cd",
   "metadata": {},
   "outputs": [
    {
     "data": {
      "image/png": "[encoded data removed]",
      "text/plain": [
       "<Figure size 600x600 with 1 Axes>"
      ]
     },
     "metadata": {},
     "output_type": "display_data"
    }
   ],
   "source": [
    "# Count values in the 'default' column\n",
    "default_counts = df_raw['default'].value_counts()\n",
    "labels = default_counts.index\n",
    "sizes = default_counts.values\n",
    "total = sizes.sum()\n",
    "\n",
    "# Plot donut chart\n",
    "plt.figure(figsize=(6, 6))\n",
    "wedges, texts, autotexts = plt.pie(\n",
    "    sizes,\n",
    "    labels=labels,\n",
    "    autopct='%1.1f%%',\n",
    "    startangle=90,\n",
    "    colors=['#66b3ff', '#ff9999'],\n",
    "    wedgeprops={'width': 0.4}  # makes it a donut\n",
    ")\n",
    "\n",
    "# Equal aspect ratio ensures the pie is drawn as a circle\n",
    "plt.axis('equal')\n",
    "plt.title('Default Distribution')\n",
    "\n",
    "# Add total count in the center\n",
    "plt.text(0, 0, f'Total\\n{total}', ha='center', va='center', fontsize=12, fontweight='bold')\n",
    "\n",
    "plt.show()"
   ]
  },
  {
   "cell_type": "markdown",
   "id": "9612d754",
   "metadata": {},
   "source": [
    "Based on this donut chart, we can observe that the `default` distribution is highly imbalanced. Out of **6000 records, 98.8% (around 5,928 individuals)** fall into **Class 0**, while only **1.2% (about 72 individuals)** belong to **Class 1**. However, at this stage, we cannot interpret what **Class 0** and **Class 1** represents, whether they indicate a good or bad credit behaviour without conducting further analysis."
   ]
  },
  {
   "cell_type": "code",
   "execution_count": 10,
   "id": "1c5539ac",
   "metadata": {},
   "outputs": [
    {
     "data": {
      "text/plain": [
       "default\n",
       "0    0.241100\n",
       "1    0.452055\n",
       "Name: previous_defaults, dtype: float64"
      ]
     },
     "execution_count": 10,
     "metadata": {},
     "output_type": "execute_result"
    }
   ],
   "source": [
    "# See how previous defaults vary by default status\n",
    "df_raw.groupby('default')['previous_defaults'].mean()\n"
   ]
  },
  {
   "cell_type": "code",
   "execution_count": 11,
   "id": "144646f5",
   "metadata": {},
   "outputs": [
    {
     "data": {
      "text/plain": [
       "default\n",
       "0    577.096001\n",
       "1    485.356164\n",
       "Name: credit_score, dtype: float64"
      ]
     },
     "execution_count": 11,
     "metadata": {},
     "output_type": "execute_result"
    }
   ],
   "source": [
    "# See how credit score varies by default status\n",
    "df_raw.groupby('default')['credit_score'].mean()"
   ]
  },
  {
   "cell_type": "markdown",
   "id": "c50453c0",
   "metadata": {},
   "source": [
    "To better understand what each class in the `default` represents, we examined the relationship between `default` and another two feature, `previous_defaults` and `credit_score`. Here's what can we learn:\n",
    "\n",
    "- People in **Class 0** have an average **0.24 previous defaults** and a **credit score of 577**.\n",
    "- Meanwhile, **people in Class 1** averaging **0.45 previous defaults** and a **lower credit score of 458**.\n",
    "\n",
    "These findings strongly suggest that:\n",
    "- **Class 0** likely represents good customers\n",
    "- **Class 1** likely represents defaulters.\n",
    "\n",
    "It's pretty make sense considering bad customers (defaulters) are fewer in numbers and typically with lower credit scores and more past defaults. [Also another thing to note, credit score is a number typically around 300-850, that estimates how likely you are to repay a loan and make the payments on time.](https://consumer.ftc.gov/articles/credit-scores#:~:text=A%20credit%20score%20is%20a,use%20is%20the%20FICO%20score.). Since the credit score in **Class 0** is higher than **Class 1**, we could assume that **Class 1** are defaulters, supports by the number of its distribution.\n",
    "\n"
   ]
  },
  {
   "cell_type": "code",
   "execution_count": 12,
   "id": "e985191c",
   "metadata": {},
   "outputs": [
    {
     "data": {
      "text/plain": [
       "<Axes: xlabel='default', ylabel='credit_score'>"
      ]
     },
     "execution_count": 12,
     "metadata": {},
     "output_type": "execute_result"
    },
    {
     "data": {
      "image/png": "[encoded data removed]",
      "text/plain": [
       "<Figure size 640x480 with 1 Axes>"
      ]
     },
     "metadata": {},
     "output_type": "display_data"
    }
   ],
   "source": [
    "# Boxplot for credit score by default status\n",
    "sns.boxplot(x='default', y='credit_score', data=df_raw)"
   ]
  },
  {
   "cell_type": "markdown",
   "id": "6ea981c7",
   "metadata": {},
   "source": [
    "Another supporting evidence that **Class 0** are good customers while **Class 1** are risky customers. We could see that the distribution of `credit_score` in **Class 0** is higher than **Class 1**."
   ]
  },
  {
   "cell_type": "code",
   "execution_count": 13,
   "id": "95226da4",
   "metadata": {},
   "outputs": [
    {
     "data": {
      "text/plain": [
       "<Axes: xlabel='default', ylabel='age'>"
      ]
     },
     "execution_count": 13,
     "metadata": {},
     "output_type": "execute_result"
    },
    {
     "data": {
      "image/png": "[encoded data removed]",
      "text/plain": [
       "<Figure size 640x480 with 1 Axes>"
      ]
     },
     "metadata": {},
     "output_type": "display_data"
    }
   ],
   "source": [
    "# Check the distribution of the 'default' column with age\n",
    "sns.boxplot(x='default', y='age', data=df_raw)"
   ]
  },
  {
   "cell_type": "markdown",
   "id": "600dfbea",
   "metadata": {},
   "source": [
    "In the distribution of `age` by `default` class, we observe that **Class 0** (non-default) has an age concentration between **30 to 50 years old**, with lower bound outliers ranging from **20 to 30**, and upper bound outliers extending to **50 to 60 years old**. Meanwhile, **Class 1** (default) also centers around 30-50, but with lower outliers more concentrated around **20 to early 30s**, and upper boundaries also from **50 to 60 years old**.\n",
    "\n",
    "While the overall shape of the distributions is similar, the slight difference in the starting point may hint at subtle age-related patterns in default behavior, though not strong enough to draw definitive conclusions without further analysis."
   ]
  },
  {
   "cell_type": "code",
   "execution_count": 14,
   "id": "b238a10b",
   "metadata": {},
   "outputs": [
    {
     "data": {
      "image/png": "[encoded data removed]",
      "text/plain": [
       "<Figure size 640x480 with 1 Axes>"
      ]
     },
     "metadata": {},
     "output_type": "display_data"
    }
   ],
   "source": [
    "# Plotting the distribution of 'age'\n",
    "sns.histplot(data=df_raw, x='age', kde=True, bins=30, color='skyblue', edgecolor='black')\n",
    "\n",
    "plt.title('Age Distribution')\n",
    "plt.xlabel('Age')\n",
    "plt.ylabel('Count')\n",
    "plt.grid(True)\n",
    "plt.show()"
   ]
  },
  {
   "cell_type": "markdown",
   "id": "94eb2484",
   "metadata": {},
   "source": [
    "This chart illustrate the age distribution of the population, with ages range from **20 to 60**. We could see that:\n",
    "\n",
    "- The distribution is multimodal. We could see many peak in the chart.\n",
    "- Highest concentration occur around ages **20** and **55-60**, with each peak exceeding 300 individuals\n",
    "\n",
    "We can assume that the reason this happened is because young adults (around **20**) is limited in their financial resources. Young adults are often at the beginning of their career, with lower or unstable income. To bridge the problem they rely on credit cards. Also in some countries, young adults already carrying their student loan. Could be the reason why the borrow behaviour early exist.\n",
    "\n",
    "Another thing to note that older generation is peaking really high, because some of them are no longer working but still need to cover expenses. Also, since they may have longer credit histories and better trustworthiness, making them eligible to credit.\n",
    "\n",
    "Interestingly, we could see the dip between ages **30 to 40**. Hypothetically, these people are often have more financial stability, higher income, and potentially more savings. That's why they don't rely on credits that much, unless for something important such as **car** or **house**"
   ]
  },
  {
   "cell_type": "code",
   "execution_count": 15,
   "id": "d8287828",
   "metadata": {},
   "outputs": [
    {
     "name": "stdout",
     "output_type": "stream",
     "text": [
      "monthly_income: rpb = -0.0571, p-value = 0.0000\n",
      "loan_amount: rpb = 0.0726, p-value = 0.0000\n",
      "credit_score: rpb = -0.0635, p-value = 0.0000\n"
     ]
    }
   ],
   "source": [
    "for col in ['monthly_income','loan_amount', 'credit_score']:\n",
    "    r, p = pointbiserialr(df_raw[col], df_raw['default'])\n",
    "    print(f\"{col}: rpb = {r:.4f}, p-value = {p:.4f}\")"
   ]
  },
  {
   "cell_type": "code",
   "execution_count": 16,
   "id": "b9d81109",
   "metadata": {},
   "outputs": [
    {
     "data": {
      "image/png": "[encoded data removed]",
      "text/plain": [
       "<Figure size 800x400 with 1 Axes>"
      ]
     },
     "metadata": {},
     "output_type": "display_data"
    }
   ],
   "source": [
    "# Results of Point-Biserial Correlation\n",
    "corr_data = {\n",
    "    'Feature': ['monthly_income', 'loan_amount', 'credit_score'],\n",
    "    'Point-Biserial r': [-0.0571, 0.0726, -0.0635]\n",
    "}\n",
    "\n",
    "df_corr = pd.DataFrame(corr_data)\n",
    "\n",
    "# Plot\n",
    "plt.figure(figsize=(8, 4))\n",
    "barplot = sns.barplot(\n",
    "    x='Point-Biserial r',\n",
    "    y='Feature',\n",
    "    hue='Feature',\n",
    "    data=df_corr,\n",
    "    palette='coolwarm',\n",
    "    legend=False,\n",
    "    orient='h'\n",
    ")\n",
    "\n",
    "# Add vertical line at x=0\n",
    "plt.axvline(0, color='gray', linestyle='--')\n",
    "\n",
    "# Annotate the bars with correlation values\n",
    "for index, row in df_corr.iterrows():\n",
    "    value = row['Point-Biserial r']\n",
    "    barplot.text(\n",
    "        value + 0.01 if value >= 0 else value - 0.07,\n",
    "        index,\n",
    "        f\"{value:.4f}\",\n",
    "        color='black',\n",
    "        va='center',\n",
    "        fontweight='bold'\n",
    "    )\n",
    "\n",
    "# Label & layout\n",
    "plt.title('Point-Biserial Correlation vs Target (default)', fontsize=12)\n",
    "plt.xlabel('Correlation Coefficient (r)')\n",
    "plt.ylabel('Feature')\n",
    "plt.xlim(-0.2, 0.2)\n",
    "plt.tight_layout()\n",
    "plt.show()"
   ]
  },
  {
   "cell_type": "markdown",
   "id": "93763d58",
   "metadata": {},
   "source": [
    "`monthly_income` have rbp scores -0.0571. It shows that it has **negative correlation but weak**. As monthly income increases, likelihood the default is lower. Which make sense that **higher earner less likely to default**. But since its really small, its not a strong predictor.\n",
    "\n",
    "`loan_amount` have rbp scores 0.0726. It shows that it has **positive correlation but weak**. As loan increases, the chances of default is slightly increases. The relationship is weak but have strong correlation (p-value = 0.0000).\n",
    "\n",
    "`credit_score` have rbp scores -0.0635. It shows that it has **negative correlation but weak**. People with higher credit score are less likely to default. However since its really weak, some people could still default while having high credit score."
   ]
  },
  {
   "cell_type": "code",
   "execution_count": 17,
   "id": "58ef2217",
   "metadata": {},
   "outputs": [
    {
     "name": "stdout",
     "output_type": "stream",
     "text": [
      "Phi Coefficient: 0.0395\n"
     ]
    }
   ],
   "source": [
    "phi = matthews_corrcoef(df_raw['previous_defaults'], df_raw['default'])\n",
    "print(f\"Phi Coefficient: {phi:.4f}\")"
   ]
  },
  {
   "cell_type": "markdown",
   "id": "3ca57d0c",
   "metadata": {},
   "source": [
    "A phi coefficient of 0.0395 is indicates that there is a **positive correlation** between `previous_defaults` and `default`. But, since 0.0395 is close to 0, the relationship is **extremely weak**."
   ]
  },
  {
   "cell_type": "markdown",
   "id": "241f15e4",
   "metadata": {},
   "source": [
    "# Feature Engineering"
   ]
  },
  {
   "cell_type": "markdown",
   "id": "7fc6bd7e",
   "metadata": {},
   "source": [
    "### Checking Distribution"
   ]
  },
  {
   "cell_type": "code",
   "execution_count": 22,
   "id": "d6628868",
   "metadata": {},
   "outputs": [
    {
     "data": {
      "text/html": [
       "<div>\n",
       "<style scoped>\n",
       "    .dataframe tbody tr th:only-of-type {\n",
       "        vertical-align: middle;\n",
       "    }\n",
       "\n",
       "    .dataframe tbody tr th {\n",
       "        vertical-align: top;\n",
       "    }\n",
       "\n",
       "    .dataframe thead th {\n",
       "        text-align: right;\n",
       "    }\n",
       "</style>\n",
       "<table border=\"1\" class=\"dataframe\">\n",
       "  <thead>\n",
       "    <tr style=\"text-align: right;\">\n",
       "      <th></th>\n",
       "      <th>column name</th>\n",
       "      <th>skewness</th>\n",
       "      <th>distribution</th>\n",
       "    </tr>\n",
       "  </thead>\n",
       "  <tbody>\n",
       "    <tr>\n",
       "      <th>0</th>\n",
       "      <td>age</td>\n",
       "      <td>-0.1</td>\n",
       "      <td>normal</td>\n",
       "    </tr>\n",
       "    <tr>\n",
       "      <th>1</th>\n",
       "      <td>monthly_income</td>\n",
       "      <td>0.0</td>\n",
       "      <td>normal</td>\n",
       "    </tr>\n",
       "    <tr>\n",
       "      <th>2</th>\n",
       "      <td>loan_amount</td>\n",
       "      <td>0.0</td>\n",
       "      <td>normal</td>\n",
       "    </tr>\n",
       "    <tr>\n",
       "      <th>3</th>\n",
       "      <td>credit_score</td>\n",
       "      <td>-0.0</td>\n",
       "      <td>normal</td>\n",
       "    </tr>\n",
       "  </tbody>\n",
       "</table>\n",
       "</div>"
      ],
      "text/plain": [
       "      column name  skewness distribution\n",
       "0             age      -0.1       normal\n",
       "1  monthly_income       0.0       normal\n",
       "2     loan_amount       0.0       normal\n",
       "3    credit_score      -0.0       normal"
      ]
     },
     "execution_count": 22,
     "metadata": {},
     "output_type": "execute_result"
    }
   ],
   "source": [
    "# Check distribution of numeric features except 'application_id' and 'default'\n",
    "num_cols = [col for col in df.select_dtypes(exclude='object').columns if col not in ['application_id', 'default', 'previous_defaults']]\n",
    "\n",
    "listItem = []\n",
    "\n",
    "for col in num_cols:\n",
    "    skew_val = round(df[col].skew(), 1)\n",
    "    distribution = 'normal' if -0.5 <= skew_val <= 0.5 else 'skewed'\n",
    "    listItem.append([col, skew_val, distribution])\n",
    "\n",
    "skewness = pd.DataFrame(columns=['column name', 'skewness', 'distribution'], data=listItem)\n",
    "skewness"
   ]
  },
  {
   "cell_type": "markdown",
   "id": "51e03c52",
   "metadata": {},
   "source": [
    "There is not much of skewed distribution. Everything is pretty normal."
   ]
  },
  {
   "cell_type": "markdown",
   "id": "f27cffaa",
   "metadata": {},
   "source": [
    "### Checking Outlier"
   ]
  },
  {
   "cell_type": "code",
   "execution_count": 23,
   "id": "1cc81532",
   "metadata": {},
   "outputs": [
    {
     "data": {
      "text/html": [
       "<div>\n",
       "<style scoped>\n",
       "    .dataframe tbody tr th:only-of-type {\n",
       "        vertical-align: middle;\n",
       "    }\n",
       "\n",
       "    .dataframe tbody tr th {\n",
       "        vertical-align: top;\n",
       "    }\n",
       "\n",
       "    .dataframe thead th {\n",
       "        text-align: right;\n",
       "    }\n",
       "</style>\n",
       "<table border=\"1\" class=\"dataframe\">\n",
       "  <thead>\n",
       "    <tr style=\"text-align: right;\">\n",
       "      <th></th>\n",
       "      <th>column</th>\n",
       "      <th>upper_boundary</th>\n",
       "      <th>lower_boundary</th>\n",
       "      <th>percentage_total_outlier</th>\n",
       "    </tr>\n",
       "  </thead>\n",
       "  <tbody>\n",
       "    <tr>\n",
       "      <th>0</th>\n",
       "      <td>age</td>\n",
       "      <td>74.22</td>\n",
       "      <td>6.42</td>\n",
       "      <td>0.0</td>\n",
       "    </tr>\n",
       "    <tr>\n",
       "      <th>1</th>\n",
       "      <td>monthly_income</td>\n",
       "      <td>26141649.94</td>\n",
       "      <td>-3333938.33</td>\n",
       "      <td>0.0</td>\n",
       "    </tr>\n",
       "    <tr>\n",
       "      <th>2</th>\n",
       "      <td>loan_amount</td>\n",
       "      <td>20216478.42</td>\n",
       "      <td>-4214235.10</td>\n",
       "      <td>0.0</td>\n",
       "    </tr>\n",
       "    <tr>\n",
       "      <th>3</th>\n",
       "      <td>credit_score</td>\n",
       "      <td>1050.97</td>\n",
       "      <td>100.99</td>\n",
       "      <td>0.0</td>\n",
       "    </tr>\n",
       "  </tbody>\n",
       "</table>\n",
       "</div>"
      ],
      "text/plain": [
       "           column  upper_boundary  lower_boundary  percentage_total_outlier\n",
       "0             age           74.22            6.42                       0.0\n",
       "1  monthly_income     26141649.94     -3333938.33                       0.0\n",
       "2     loan_amount     20216478.42     -4214235.10                       0.0\n",
       "3    credit_score         1050.97          100.99                       0.0"
      ]
     },
     "execution_count": 23,
     "metadata": {},
     "output_type": "execute_result"
    }
   ],
   "source": [
    "#Check for upper and lower boundary for outliers\n",
    "\n",
    "column = []\n",
    "lower_bound = []\n",
    "upper_bound = []\n",
    "percent_total_outlier = []\n",
    "\n",
    "for row in range (0, len(skewness)):\n",
    "  col = skewness['column name'][row]\n",
    "  #checking upper and lower boundary\n",
    "  if skewness['distribution'][row] == 'skewed':\n",
    "    IQR = df[col].quantile(0.75) - df[col].quantile(0.25)\n",
    "    lower_boundary = df[col].quantile(0.25) - (IQR * 3)\n",
    "    upper_boundary = df[col].quantile(0.75) + (IQR * 3)\n",
    "  else:\n",
    "    lower_boundary = df[col].mean() - 3* df[col].std()\n",
    "    upper_boundary = df[col].mean() + 3* df[col].std()\n",
    "  #append to list\n",
    "  column.append(col)\n",
    "  lower_bound.append(lower_boundary)\n",
    "  upper_bound.append(upper_boundary)\n",
    "  totout = ((len(df[df[col] > upper_boundary]) / len(df) * 100) + (len(df[df[col] < lower_boundary]) / len(df) * 100))\n",
    "  percent_total_outlier.append(totout)\n",
    "\n",
    "outliers = pd.DataFrame({\n",
    "    'column': column,\n",
    "    #round the value\n",
    "    'upper_boundary': [round(upper_bound,2) for upper_bound in upper_bound],\n",
    "    'lower_boundary': [round(lower_bound,2) for lower_bound in lower_bound],\n",
    "    'percentage_total_outlier': [round(percent_total_outlier,2) for percent_total_outlier in percent_total_outlier]\n",
    "})\n",
    "outliers"
   ]
  },
  {
   "cell_type": "markdown",
   "id": "6ad8a953",
   "metadata": {},
   "source": [
    "There are no outlier in this dataset. So no need to handle outlier."
   ]
  },
  {
   "cell_type": "markdown",
   "id": "c4c1a72e",
   "metadata": {},
   "source": [
    "### Splitting"
   ]
  },
  {
   "cell_type": "code",
   "execution_count": 24,
   "id": "b19ec19d",
   "metadata": {},
   "outputs": [
    {
     "data": {
      "text/html": [
       "<div>\n",
       "<style scoped>\n",
       "    .dataframe tbody tr th:only-of-type {\n",
       "        vertical-align: middle;\n",
       "    }\n",
       "\n",
       "    .dataframe tbody tr th {\n",
       "        vertical-align: top;\n",
       "    }\n",
       "\n",
       "    .dataframe thead th {\n",
       "        text-align: right;\n",
       "    }\n",
       "</style>\n",
       "<table border=\"1\" class=\"dataframe\">\n",
       "  <thead>\n",
       "    <tr style=\"text-align: right;\">\n",
       "      <th></th>\n",
       "      <th>age</th>\n",
       "      <th>monthly_income</th>\n",
       "      <th>loan_amount</th>\n",
       "      <th>previous_defaults</th>\n",
       "      <th>credit_score</th>\n",
       "    </tr>\n",
       "  </thead>\n",
       "  <tbody>\n",
       "    <tr>\n",
       "      <th>0</th>\n",
       "      <td>41</td>\n",
       "      <td>13995609</td>\n",
       "      <td>5982664</td>\n",
       "      <td>0</td>\n",
       "      <td>624</td>\n",
       "    </tr>\n",
       "    <tr>\n",
       "      <th>1</th>\n",
       "      <td>58</td>\n",
       "      <td>13683833</td>\n",
       "      <td>3711198</td>\n",
       "      <td>0</td>\n",
       "      <td>809</td>\n",
       "    </tr>\n",
       "    <tr>\n",
       "      <th>2</th>\n",
       "      <td>33</td>\n",
       "      <td>9417391</td>\n",
       "      <td>7172332</td>\n",
       "      <td>0</td>\n",
       "      <td>647</td>\n",
       "    </tr>\n",
       "    <tr>\n",
       "      <th>3</th>\n",
       "      <td>45</td>\n",
       "      <td>6861811</td>\n",
       "      <td>8661056</td>\n",
       "      <td>0</td>\n",
       "      <td>450</td>\n",
       "    </tr>\n",
       "    <tr>\n",
       "      <th>4</th>\n",
       "      <td>22</td>\n",
       "      <td>5640742</td>\n",
       "      <td>4520669</td>\n",
       "      <td>1</td>\n",
       "      <td>816</td>\n",
       "    </tr>\n",
       "    <tr>\n",
       "      <th>...</th>\n",
       "      <td>...</td>\n",
       "      <td>...</td>\n",
       "      <td>...</td>\n",
       "      <td>...</td>\n",
       "      <td>...</td>\n",
       "    </tr>\n",
       "    <tr>\n",
       "      <th>5995</th>\n",
       "      <td>26</td>\n",
       "      <td>18253018</td>\n",
       "      <td>3690565</td>\n",
       "      <td>2</td>\n",
       "      <td>729</td>\n",
       "    </tr>\n",
       "    <tr>\n",
       "      <th>5996</th>\n",
       "      <td>40</td>\n",
       "      <td>9944385</td>\n",
       "      <td>4082038</td>\n",
       "      <td>1</td>\n",
       "      <td>477</td>\n",
       "    </tr>\n",
       "    <tr>\n",
       "      <th>5997</th>\n",
       "      <td>28</td>\n",
       "      <td>9048532</td>\n",
       "      <td>14760384</td>\n",
       "      <td>0</td>\n",
       "      <td>450</td>\n",
       "    </tr>\n",
       "    <tr>\n",
       "      <th>5998</th>\n",
       "      <td>51</td>\n",
       "      <td>6843160</td>\n",
       "      <td>11774594</td>\n",
       "      <td>0</td>\n",
       "      <td>561</td>\n",
       "    </tr>\n",
       "    <tr>\n",
       "      <th>5999</th>\n",
       "      <td>35</td>\n",
       "      <td>12715733</td>\n",
       "      <td>8006387</td>\n",
       "      <td>0</td>\n",
       "      <td>774</td>\n",
       "    </tr>\n",
       "  </tbody>\n",
       "</table>\n",
       "<p>6000 rows × 5 columns</p>\n",
       "</div>"
      ],
      "text/plain": [
       "      age  monthly_income  loan_amount  previous_defaults  credit_score\n",
       "0      41        13995609      5982664                  0           624\n",
       "1      58        13683833      3711198                  0           809\n",
       "2      33         9417391      7172332                  0           647\n",
       "3      45         6861811      8661056                  0           450\n",
       "4      22         5640742      4520669                  1           816\n",
       "...   ...             ...          ...                ...           ...\n",
       "5995   26        18253018      3690565                  2           729\n",
       "5996   40         9944385      4082038                  1           477\n",
       "5997   28         9048532     14760384                  0           450\n",
       "5998   51         6843160     11774594                  0           561\n",
       "5999   35        12715733      8006387                  0           774\n",
       "\n",
       "[6000 rows x 5 columns]"
      ]
     },
     "execution_count": 24,
     "metadata": {},
     "output_type": "execute_result"
    }
   ],
   "source": [
    "X = df.drop(columns=['application_id', 'default'])\n",
    "y = df['default']\n",
    "\n",
    "X"
   ]
  },
  {
   "cell_type": "code",
   "execution_count": 34,
   "id": "6138f389",
   "metadata": {},
   "outputs": [],
   "source": [
    "num_cols = X.select_dtypes(include=['int64', 'float64']).columns"
   ]
  },
  {
   "cell_type": "markdown",
   "id": "47f5f96d",
   "metadata": {},
   "source": [
    "We will drop `application_id` since its not important and `default` since it was the target."
   ]
  },
  {
   "cell_type": "code",
   "execution_count": 35,
   "id": "f16ed282",
   "metadata": {},
   "outputs": [
    {
     "name": "stdout",
     "output_type": "stream",
     "text": [
      "Train size :  (4800, 5)\n",
      "Test size  :  (1200, 5)\n",
      "['age', 'monthly_income', 'loan_amount', 'previous_defaults', 'credit_score']\n"
     ]
    }
   ],
   "source": [
    "# Split the dataset into training and testing sets\n",
    "X_train, X_test, y_train, y_test = train_test_split(\n",
    "    X, y, test_size=0.2, random_state=20, stratify=y\n",
    ")\n",
    "\n",
    "print('Train size : ', X_train.shape)\n",
    "print('Test size  : ', X_test.shape)\n",
    "print(X_train.columns.tolist())"
   ]
  },
  {
   "cell_type": "markdown",
   "id": "0aac7cf4",
   "metadata": {},
   "source": [
    "The data will be split with the proportion **80:20**. **Train size is 4800** and **test size is 1200** with only **5 features**."
   ]
  },
  {
   "cell_type": "markdown",
   "id": "ae62bc67",
   "metadata": {},
   "source": [
    "# Model Definition"
   ]
  },
  {
   "cell_type": "markdown",
   "id": "f2cca593",
   "metadata": {},
   "source": [
    "Model that will be used in this notebook are **Logistic Regression** and **Gradient Boosting Classifier**. The reason is because **Logistic Regression** is **simple, interpretable, and efficient for binary classification**. And then we will try to compare it with **Gradient Boosting Classifier** if there is any particular differences between two models. We will scale it with **Standard Scaler** because the data is pretty much normal, not skewed. Also, we will do scaling because **Logistic Regression** sensitive to outliers. No encoding since every feature is numerical. We will try training with `class_weight='balanced'` and **SMOTE + Random Under-Sampling** too see which one is better handling imbalanced data.\n",
    "\n",
    "Also we will try to hyperparameter tuning with `C`. `penalty`, and `max_iter`."
   ]
  },
  {
   "cell_type": "markdown",
   "id": "e88e809a",
   "metadata": {},
   "source": [
    "# Model Training"
   ]
  },
  {
   "cell_type": "markdown",
   "id": "3cda083f",
   "metadata": {},
   "source": [
    "### Logistic Regression with class_weight = balanced"
   ]
  },
  {
   "cell_type": "code",
   "execution_count": 38,
   "id": "8b2234e5",
   "metadata": {},
   "outputs": [
    {
     "data": {
      "text/html": [
       "<style>#sk-container-id-1 {\n",
       "  /* Definition of color scheme common for light and dark mode */\n",
       "  --sklearn-color-text: black;\n",
       "  --sklearn-color-line: gray;\n",
       "  /* Definition of color scheme for unfitted estimators */\n",
       "  --sklearn-color-unfitted-level-0: #fff5e6;\n",
       "  --sklearn-color-unfitted-level-1: #f6e4d2;\n",
       "  --sklearn-color-unfitted-level-2: #ffe0b3;\n",
       "  --sklearn-color-unfitted-level-3: chocolate;\n",
       "  /* Definition of color scheme for fitted estimators */\n",
       "  --sklearn-color-fitted-level-0: #f0f8ff;\n",
       "  --sklearn-color-fitted-level-1: #d4ebff;\n",
       "  --sklearn-color-fitted-level-2: #b3dbfd;\n",
       "  --sklearn-color-fitted-level-3: cornflowerblue;\n",
       "\n",
       "  /* Specific color for light theme */\n",
       "  --sklearn-color-text-on-default-background: var(--sg-text-color, var(--theme-code-foreground, var(--jp-content-font-color1, black)));\n",
       "  --sklearn-color-background: var(--sg-background-color, var(--theme-background, var(--jp-layout-color0, white)));\n",
       "  --sklearn-color-border-box: var(--sg-text-color, var(--theme-code-foreground, var(--jp-content-font-color1, black)));\n",
       "  --sklearn-color-icon: #696969;\n",
       "\n",
       "  @media (prefers-color-scheme: dark) {\n",
       "    /* Redefinition of color scheme for dark theme */\n",
       "    --sklearn-color-text-on-default-background: var(--sg-text-color, var(--theme-code-foreground, var(--jp-content-font-color1, white)));\n",
       "    --sklearn-color-background: var(--sg-background-color, var(--theme-background, var(--jp-layout-color0, #111)));\n",
       "    --sklearn-color-border-box: var(--sg-text-color, var(--theme-code-foreground, var(--jp-content-font-color1, white)));\n",
       "    --sklearn-color-icon: #878787;\n",
       "  }\n",
       "}\n",
       "\n",
       "#sk-container-id-1 {\n",
       "  color: var(--sklearn-color-text);\n",
       "}\n",
       "\n",
       "#sk-container-id-1 pre {\n",
       "  padding: 0;\n",
       "}\n",
       "\n",
       "#sk-container-id-1 input.sk-hidden--visually {\n",
       "  border: 0;\n",
       "  clip: rect(1px 1px 1px 1px);\n",
       "  clip: rect(1px, 1px, 1px, 1px);\n",
       "  height: 1px;\n",
       "  margin: -1px;\n",
       "  overflow: hidden;\n",
       "  padding: 0;\n",
       "  position: absolute;\n",
       "  width: 1px;\n",
       "}\n",
       "\n",
       "#sk-container-id-1 div.sk-dashed-wrapped {\n",
       "  border: 1px dashed var(--sklearn-color-line);\n",
       "  margin: 0 0.4em 0.5em 0.4em;\n",
       "  box-sizing: border-box;\n",
       "  padding-bottom: 0.4em;\n",
       "  background-color: var(--sklearn-color-background);\n",
       "}\n",
       "\n",
       "#sk-container-id-1 div.sk-container {\n",
       "  /* jupyter's `normalize.less` sets `[hidden] { display: none; }`\n",
       "     but bootstrap.min.css set `[hidden] { display: none !important; }`\n",
       "     so we also need the `!important` here to be able to override the\n",
       "     default hidden behavior on the sphinx rendered scikit-learn.org.\n",
       "     See: https://github.com/scikit-learn/scikit-learn/issues/21755 */\n",
       "  display: inline-block !important;\n",
       "  position: relative;\n",
       "}\n",
       "\n",
       "#sk-container-id-1 div.sk-text-repr-fallback {\n",
       "  display: none;\n",
       "}\n",
       "\n",
       "div.sk-parallel-item,\n",
       "div.sk-serial,\n",
       "div.sk-item {\n",
       "  /* draw centered vertical line to link estimators */\n",
       "  background-image: linear-gradient(var(--sklearn-color-text-on-default-background), var(--sklearn-color-text-on-default-background));\n",
       "  background-size: 2px 100%;\n",
       "  background-repeat: no-repeat;\n",
       "  background-position: center center;\n",
       "}\n",
       "\n",
       "/* Parallel-specific style estimator block */\n",
       "\n",
       "#sk-container-id-1 div.sk-parallel-item::after {\n",
       "  content: \"\";\n",
       "  width: 100%;\n",
       "  border-bottom: 2px solid var(--sklearn-color-text-on-default-background);\n",
       "  flex-grow: 1;\n",
       "}\n",
       "\n",
       "#sk-container-id-1 div.sk-parallel {\n",
       "  display: flex;\n",
       "  align-items: stretch;\n",
       "  justify-content: center;\n",
       "  background-color: var(--sklearn-color-background);\n",
       "  position: relative;\n",
       "}\n",
       "\n",
       "#sk-container-id-1 div.sk-parallel-item {\n",
       "  display: flex;\n",
       "  flex-direction: column;\n",
       "}\n",
       "\n",
       "#sk-container-id-1 div.sk-parallel-item:first-child::after {\n",
       "  align-self: flex-end;\n",
       "  width: 50%;\n",
       "}\n",
       "\n",
       "#sk-container-id-1 div.sk-parallel-item:last-child::after {\n",
       "  align-self: flex-start;\n",
       "  width: 50%;\n",
       "}\n",
       "\n",
       "#sk-container-id-1 div.sk-parallel-item:only-child::after {\n",
       "  width: 0;\n",
       "}\n",
       "\n",
       "/* Serial-specific style estimator block */\n",
       "\n",
       "#sk-container-id-1 div.sk-serial {\n",
       "  display: flex;\n",
       "  flex-direction: column;\n",
       "  align-items: center;\n",
       "  background-color: var(--sklearn-color-background);\n",
       "  padding-right: 1em;\n",
       "  padding-left: 1em;\n",
       "}\n",
       "\n",
       "\n",
       "/* Toggleable style: style used for estimator/Pipeline/ColumnTransformer box that is\n",
       "clickable and can be expanded/collapsed.\n",
       "- Pipeline and ColumnTransformer use this feature and define the default style\n",
       "- Estimators will overwrite some part of the style using the `sk-estimator` class\n",
       "*/\n",
       "\n",
       "/* Pipeline and ColumnTransformer style (default) */\n",
       "\n",
       "#sk-container-id-1 div.sk-toggleable {\n",
       "  /* Default theme specific background. It is overwritten whether we have a\n",
       "  specific estimator or a Pipeline/ColumnTransformer */\n",
       "  background-color: var(--sklearn-color-background);\n",
       "}\n",
       "\n",
       "/* Toggleable label */\n",
       "#sk-container-id-1 label.sk-toggleable__label {\n",
       "  cursor: pointer;\n",
       "  display: block;\n",
       "  width: 100%;\n",
       "  margin-bottom: 0;\n",
       "  padding: 0.5em;\n",
       "  box-sizing: border-box;\n",
       "  text-align: center;\n",
       "}\n",
       "\n",
       "#sk-container-id-1 label.sk-toggleable__label-arrow:before {\n",
       "  /* Arrow on the left of the label */\n",
       "  content: \"▸\";\n",
       "  float: left;\n",
       "  margin-right: 0.25em;\n",
       "  color: var(--sklearn-color-icon);\n",
       "}\n",
       "\n",
       "#sk-container-id-1 label.sk-toggleable__label-arrow:hover:before {\n",
       "  color: var(--sklearn-color-text);\n",
       "}\n",
       "\n",
       "/* Toggleable content - dropdown */\n",
       "\n",
       "#sk-container-id-1 div.sk-toggleable__content {\n",
       "  max-height: 0;\n",
       "  max-width: 0;\n",
       "  overflow: hidden;\n",
       "  text-align: left;\n",
       "  /* unfitted */\n",
       "  background-color: var(--sklearn-color-unfitted-level-0);\n",
       "}\n",
       "\n",
       "#sk-container-id-1 div.sk-toggleable__content.fitted {\n",
       "  /* fitted */\n",
       "  background-color: var(--sklearn-color-fitted-level-0);\n",
       "}\n",
       "\n",
       "#sk-container-id-1 div.sk-toggleable__content pre {\n",
       "  margin: 0.2em;\n",
       "  border-radius: 0.25em;\n",
       "  color: var(--sklearn-color-text);\n",
       "  /* unfitted */\n",
       "  background-color: var(--sklearn-color-unfitted-level-0);\n",
       "}\n",
       "\n",
       "#sk-container-id-1 div.sk-toggleable__content.fitted pre {\n",
       "  /* unfitted */\n",
       "  background-color: var(--sklearn-color-fitted-level-0);\n",
       "}\n",
       "\n",
       "#sk-container-id-1 input.sk-toggleable__control:checked~div.sk-toggleable__content {\n",
       "  /* Expand drop-down */\n",
       "  max-height: 200px;\n",
       "  max-width: 100%;\n",
       "  overflow: auto;\n",
       "}\n",
       "\n",
       "#sk-container-id-1 input.sk-toggleable__control:checked~label.sk-toggleable__label-arrow:before {\n",
       "  content: \"▾\";\n",
       "}\n",
       "\n",
       "/* Pipeline/ColumnTransformer-specific style */\n",
       "\n",
       "#sk-container-id-1 div.sk-label input.sk-toggleable__control:checked~label.sk-toggleable__label {\n",
       "  color: var(--sklearn-color-text);\n",
       "  background-color: var(--sklearn-color-unfitted-level-2);\n",
       "}\n",
       "\n",
       "#sk-container-id-1 div.sk-label.fitted input.sk-toggleable__control:checked~label.sk-toggleable__label {\n",
       "  background-color: var(--sklearn-color-fitted-level-2);\n",
       "}\n",
       "\n",
       "/* Estimator-specific style */\n",
       "\n",
       "/* Colorize estimator box */\n",
       "#sk-container-id-1 div.sk-estimator input.sk-toggleable__control:checked~label.sk-toggleable__label {\n",
       "  /* unfitted */\n",
       "  background-color: var(--sklearn-color-unfitted-level-2);\n",
       "}\n",
       "\n",
       "#sk-container-id-1 div.sk-estimator.fitted input.sk-toggleable__control:checked~label.sk-toggleable__label {\n",
       "  /* fitted */\n",
       "  background-color: var(--sklearn-color-fitted-level-2);\n",
       "}\n",
       "\n",
       "#sk-container-id-1 div.sk-label label.sk-toggleable__label,\n",
       "#sk-container-id-1 div.sk-label label {\n",
       "  /* The background is the default theme color */\n",
       "  color: var(--sklearn-color-text-on-default-background);\n",
       "}\n",
       "\n",
       "/* On hover, darken the color of the background */\n",
       "#sk-container-id-1 div.sk-label:hover label.sk-toggleable__label {\n",
       "  color: var(--sklearn-color-text);\n",
       "  background-color: var(--sklearn-color-unfitted-level-2);\n",
       "}\n",
       "\n",
       "/* Label box, darken color on hover, fitted */\n",
       "#sk-container-id-1 div.sk-label.fitted:hover label.sk-toggleable__label.fitted {\n",
       "  color: var(--sklearn-color-text);\n",
       "  background-color: var(--sklearn-color-fitted-level-2);\n",
       "}\n",
       "\n",
       "/* Estimator label */\n",
       "\n",
       "#sk-container-id-1 div.sk-label label {\n",
       "  font-family: monospace;\n",
       "  font-weight: bold;\n",
       "  display: inline-block;\n",
       "  line-height: 1.2em;\n",
       "}\n",
       "\n",
       "#sk-container-id-1 div.sk-label-container {\n",
       "  text-align: center;\n",
       "}\n",
       "\n",
       "/* Estimator-specific */\n",
       "#sk-container-id-1 div.sk-estimator {\n",
       "  font-family: monospace;\n",
       "  border: 1px dotted var(--sklearn-color-border-box);\n",
       "  border-radius: 0.25em;\n",
       "  box-sizing: border-box;\n",
       "  margin-bottom: 0.5em;\n",
       "  /* unfitted */\n",
       "  background-color: var(--sklearn-color-unfitted-level-0);\n",
       "}\n",
       "\n",
       "#sk-container-id-1 div.sk-estimator.fitted {\n",
       "  /* fitted */\n",
       "  background-color: var(--sklearn-color-fitted-level-0);\n",
       "}\n",
       "\n",
       "/* on hover */\n",
       "#sk-container-id-1 div.sk-estimator:hover {\n",
       "  /* unfitted */\n",
       "  background-color: var(--sklearn-color-unfitted-level-2);\n",
       "}\n",
       "\n",
       "#sk-container-id-1 div.sk-estimator.fitted:hover {\n",
       "  /* fitted */\n",
       "  background-color: var(--sklearn-color-fitted-level-2);\n",
       "}\n",
       "\n",
       "/* Specification for estimator info (e.g. \"i\" and \"?\") */\n",
       "\n",
       "/* Common style for \"i\" and \"?\" */\n",
       "\n",
       ".sk-estimator-doc-link,\n",
       "a:link.sk-estimator-doc-link,\n",
       "a:visited.sk-estimator-doc-link {\n",
       "  float: right;\n",
       "  font-size: smaller;\n",
       "  line-height: 1em;\n",
       "  font-family: monospace;\n",
       "  background-color: var(--sklearn-color-background);\n",
       "  border-radius: 1em;\n",
       "  height: 1em;\n",
       "  width: 1em;\n",
       "  text-decoration: none !important;\n",
       "  margin-left: 1ex;\n",
       "  /* unfitted */\n",
       "  border: var(--sklearn-color-unfitted-level-1) 1pt solid;\n",
       "  color: var(--sklearn-color-unfitted-level-1);\n",
       "}\n",
       "\n",
       ".sk-estimator-doc-link.fitted,\n",
       "a:link.sk-estimator-doc-link.fitted,\n",
       "a:visited.sk-estimator-doc-link.fitted {\n",
       "  /* fitted */\n",
       "  border: var(--sklearn-color-fitted-level-1) 1pt solid;\n",
       "  color: var(--sklearn-color-fitted-level-1);\n",
       "}\n",
       "\n",
       "/* On hover */\n",
       "div.sk-estimator:hover .sk-estimator-doc-link:hover,\n",
       ".sk-estimator-doc-link:hover,\n",
       "div.sk-label-container:hover .sk-estimator-doc-link:hover,\n",
       ".sk-estimator-doc-link:hover {\n",
       "  /* unfitted */\n",
       "  background-color: var(--sklearn-color-unfitted-level-3);\n",
       "  color: var(--sklearn-color-background);\n",
       "  text-decoration: none;\n",
       "}\n",
       "\n",
       "div.sk-estimator.fitted:hover .sk-estimator-doc-link.fitted:hover,\n",
       ".sk-estimator-doc-link.fitted:hover,\n",
       "div.sk-label-container:hover .sk-estimator-doc-link.fitted:hover,\n",
       ".sk-estimator-doc-link.fitted:hover {\n",
       "  /* fitted */\n",
       "  background-color: var(--sklearn-color-fitted-level-3);\n",
       "  color: var(--sklearn-color-background);\n",
       "  text-decoration: none;\n",
       "}\n",
       "\n",
       "/* Span, style for the box shown on hovering the info icon */\n",
       ".sk-estimator-doc-link span {\n",
       "  display: none;\n",
       "  z-index: 9999;\n",
       "  position: relative;\n",
       "  font-weight: normal;\n",
       "  right: .2ex;\n",
       "  padding: .5ex;\n",
       "  margin: .5ex;\n",
       "  width: min-content;\n",
       "  min-width: 20ex;\n",
       "  max-width: 50ex;\n",
       "  color: var(--sklearn-color-text);\n",
       "  box-shadow: 2pt 2pt 4pt #999;\n",
       "  /* unfitted */\n",
       "  background: var(--sklearn-color-unfitted-level-0);\n",
       "  border: .5pt solid var(--sklearn-color-unfitted-level-3);\n",
       "}\n",
       "\n",
       ".sk-estimator-doc-link.fitted span {\n",
       "  /* fitted */\n",
       "  background: var(--sklearn-color-fitted-level-0);\n",
       "  border: var(--sklearn-color-fitted-level-3);\n",
       "}\n",
       "\n",
       ".sk-estimator-doc-link:hover span {\n",
       "  display: block;\n",
       "}\n",
       "\n",
       "/* \"?\"-specific style due to the `<a>` HTML tag */\n",
       "\n",
       "#sk-container-id-1 a.estimator_doc_link {\n",
       "  float: right;\n",
       "  font-size: 1rem;\n",
       "  line-height: 1em;\n",
       "  font-family: monospace;\n",
       "  background-color: var(--sklearn-color-background);\n",
       "  border-radius: 1rem;\n",
       "  height: 1rem;\n",
       "  width: 1rem;\n",
       "  text-decoration: none;\n",
       "  /* unfitted */\n",
       "  color: var(--sklearn-color-unfitted-level-1);\n",
       "  border: var(--sklearn-color-unfitted-level-1) 1pt solid;\n",
       "}\n",
       "\n",
       "#sk-container-id-1 a.estimator_doc_link.fitted {\n",
       "  /* fitted */\n",
       "  border: var(--sklearn-color-fitted-level-1) 1pt solid;\n",
       "  color: var(--sklearn-color-fitted-level-1);\n",
       "}\n",
       "\n",
       "/* On hover */\n",
       "#sk-container-id-1 a.estimator_doc_link:hover {\n",
       "  /* unfitted */\n",
       "  background-color: var(--sklearn-color-unfitted-level-3);\n",
       "  color: var(--sklearn-color-background);\n",
       "  text-decoration: none;\n",
       "}\n",
       "\n",
       "#sk-container-id-1 a.estimator_doc_link.fitted:hover {\n",
       "  /* fitted */\n",
       "  background-color: var(--sklearn-color-fitted-level-3);\n",
       "}\n",
       "</style><div id=\"sk-container-id-1\" class=\"sk-top-container\"><div class=\"sk-text-repr-fallback\"><pre>Pipeline(steps=[(&#x27;preprocessing&#x27;,\n",
       "                 ColumnTransformer(transformers=[(&#x27;standard_scaler&#x27;,\n",
       "                                                  StandardScaler(),\n",
       "                                                  Index([&#x27;age&#x27;, &#x27;monthly_income&#x27;, &#x27;loan_amount&#x27;, &#x27;previous_defaults&#x27;,\n",
       "       &#x27;credit_score&#x27;],\n",
       "      dtype=&#x27;object&#x27;))])),\n",
       "                (&#x27;classifier&#x27;,\n",
       "                 LogisticRegression(class_weight=&#x27;balanced&#x27;, random_state=20))])</pre><b>In a Jupyter environment, please rerun this cell to show the HTML representation or trust the notebook. <br />On GitHub, the HTML representation is unable to render, please try loading this page with nbviewer.org.</b></div><div class=\"sk-container\" hidden><div class=\"sk-item sk-dashed-wrapped\"><div class=\"sk-label-container\"><div class=\"sk-label fitted sk-toggleable\"><input class=\"sk-toggleable__control sk-hidden--visually\" id=\"sk-estimator-id-1\" type=\"checkbox\" ><label for=\"sk-estimator-id-1\" class=\"sk-toggleable__label fitted sk-toggleable__label-arrow fitted\">&nbsp;Pipeline<span class=\"sk-estimator-doc-link fitted\">i<span>Fitted</span></span></label><div class=\"sk-toggleable__content fitted\"><pre>Pipeline(steps=[(&#x27;preprocessing&#x27;,\n",
       "                 ColumnTransformer(transformers=[(&#x27;standard_scaler&#x27;,\n",
       "                                                  StandardScaler(),\n",
       "                                                  Index([&#x27;age&#x27;, &#x27;monthly_income&#x27;, &#x27;loan_amount&#x27;, &#x27;previous_defaults&#x27;,\n",
       "       &#x27;credit_score&#x27;],\n",
       "      dtype=&#x27;object&#x27;))])),\n",
       "                (&#x27;classifier&#x27;,\n",
       "                 LogisticRegression(class_weight=&#x27;balanced&#x27;, random_state=20))])</pre></div> </div></div><div class=\"sk-serial\"><div class=\"sk-item sk-dashed-wrapped\"><div class=\"sk-label-container\"><div class=\"sk-label fitted sk-toggleable\"><input class=\"sk-toggleable__control sk-hidden--visually\" id=\"sk-estimator-id-2\" type=\"checkbox\" ><label for=\"sk-estimator-id-2\" class=\"sk-toggleable__label fitted sk-toggleable__label-arrow fitted\">&nbsp;preprocessing: ColumnTransformer<a class=\"sk-estimator-doc-link fitted\" rel=\"noreferrer\" target=\"_blank\" href=\"https://scikit-learn.org/1.4/modules/generated/sklearn.compose.ColumnTransformer.html\">?<span>Documentation for preprocessing: ColumnTransformer</span></a></label><div class=\"sk-toggleable__content fitted\"><pre>ColumnTransformer(transformers=[(&#x27;standard_scaler&#x27;, StandardScaler(),\n",
       "                                 Index([&#x27;age&#x27;, &#x27;monthly_income&#x27;, &#x27;loan_amount&#x27;, &#x27;previous_defaults&#x27;,\n",
       "       &#x27;credit_score&#x27;],\n",
       "      dtype=&#x27;object&#x27;))])</pre></div> </div></div><div class=\"sk-parallel\"><div class=\"sk-parallel-item\"><div class=\"sk-item\"><div class=\"sk-label-container\"><div class=\"sk-label fitted sk-toggleable\"><input class=\"sk-toggleable__control sk-hidden--visually\" id=\"sk-estimator-id-3\" type=\"checkbox\" ><label for=\"sk-estimator-id-3\" class=\"sk-toggleable__label fitted sk-toggleable__label-arrow fitted\">standard_scaler</label><div class=\"sk-toggleable__content fitted\"><pre>Index([&#x27;age&#x27;, &#x27;monthly_income&#x27;, &#x27;loan_amount&#x27;, &#x27;previous_defaults&#x27;,\n",
       "       &#x27;credit_score&#x27;],\n",
       "      dtype=&#x27;object&#x27;)</pre></div> </div></div><div class=\"sk-serial\"><div class=\"sk-item\"><div class=\"sk-estimator fitted sk-toggleable\"><input class=\"sk-toggleable__control sk-hidden--visually\" id=\"sk-estimator-id-4\" type=\"checkbox\" ><label for=\"sk-estimator-id-4\" class=\"sk-toggleable__label fitted sk-toggleable__label-arrow fitted\">&nbsp;StandardScaler<a class=\"sk-estimator-doc-link fitted\" rel=\"noreferrer\" target=\"_blank\" href=\"https://scikit-learn.org/1.4/modules/generated/sklearn.preprocessing.StandardScaler.html\">?<span>Documentation for StandardScaler</span></a></label><div class=\"sk-toggleable__content fitted\"><pre>StandardScaler()</pre></div> </div></div></div></div></div></div></div><div class=\"sk-item\"><div class=\"sk-estimator fitted sk-toggleable\"><input class=\"sk-toggleable__control sk-hidden--visually\" id=\"sk-estimator-id-5\" type=\"checkbox\" ><label for=\"sk-estimator-id-5\" class=\"sk-toggleable__label fitted sk-toggleable__label-arrow fitted\">&nbsp;LogisticRegression<a class=\"sk-estimator-doc-link fitted\" rel=\"noreferrer\" target=\"_blank\" href=\"https://scikit-learn.org/1.4/modules/generated/sklearn.linear_model.LogisticRegression.html\">?<span>Documentation for LogisticRegression</span></a></label><div class=\"sk-toggleable__content fitted\"><pre>LogisticRegression(class_weight=&#x27;balanced&#x27;, random_state=20)</pre></div> </div></div></div></div></div></div>"
      ],
      "text/plain": [
       "Pipeline(steps=[('preprocessing',\n",
       "                 ColumnTransformer(transformers=[('standard_scaler',\n",
       "                                                  StandardScaler(),\n",
       "                                                  Index(['age', 'monthly_income', 'loan_amount', 'previous_defaults',\n",
       "       'credit_score'],\n",
       "      dtype='object'))])),\n",
       "                ('classifier',\n",
       "                 LogisticRegression(class_weight='balanced', random_state=20))])"
      ]
     },
     "execution_count": 38,
     "metadata": {},
     "output_type": "execute_result"
    }
   ],
   "source": [
    "# Preprocessing the data\n",
    "preprocessing = ColumnTransformer([\n",
    "    ('standard_scaler', StandardScaler(), num_cols)\n",
    "])\n",
    "\n",
    "# Pipeline for preprocessing and model training\n",
    "lr_cw = ImbPipeline([\n",
    "    ('preprocessing', preprocessing),\n",
    "    ('classifier', LogisticRegression(random_state=20, class_weight='balanced'))\n",
    "])\n",
    "\n",
    "# Fit pipeline\n",
    "lr_cw.fit(X_train, y_train)"
   ]
  },
  {
   "cell_type": "markdown",
   "id": "53fdf2aa",
   "metadata": {},
   "source": [
    "### Logistic Regression with class_weight only training evaluation"
   ]
  },
  {
   "cell_type": "code",
   "execution_count": 167,
   "id": "1b7af4de",
   "metadata": {},
   "outputs": [
    {
     "name": "stdout",
     "output_type": "stream",
     "text": [
      "Recall Score - Train Set   :  0.7586206896551724 \n",
      "\n",
      "              precision    recall  f1-score   support\n",
      "\n",
      "           0       1.00      0.72      0.84      4742\n",
      "           1       0.03      0.76      0.06        58\n",
      "\n",
      "    accuracy                           0.72      4800\n",
      "   macro avg       0.51      0.74      0.45      4800\n",
      "weighted avg       0.98      0.72      0.83      4800\n",
      "\n",
      "roc_auc_score (Train): 0.8064\n",
      "Model Evaluation: Fair\n",
      "\n",
      "\n",
      "Confusion Matrix - Train Set\n",
      " [[3419 1323]\n",
      " [  14   44]]\n"
     ]
    }
   ],
   "source": [
    "def evaluate_roc_auc(score):\n",
    "    if score > 0.9:\n",
    "        return \"Good\"\n",
    "    elif 0.8 <= score <= 0.9:\n",
    "        return \"Fair\"\n",
    "    elif 0.7 <= score < 0.8:\n",
    "        return \"Decent\"\n",
    "    elif 0.6 <= score < 0.7:\n",
    "        return \"Not Great\"\n",
    "    else:\n",
    "        return \"Poor\"\n",
    "\n",
    "\n",
    "# Make predictions on the training set\n",
    "y_pred_train = lr_cw.predict(X_train)\n",
    "y_proba_train = lr_cw.predict_proba(X_train)[:, 1]\n",
    "\n",
    "print('Recall Score - Train Set   : ', recall_score(y_train, y_pred_train), '\\n')\n",
    "print(classification_report(y_train, y_pred_train, zero_division=0))\n",
    "\n",
    "cm = confusion_matrix(y_train, y_pred_train)\n",
    "\n",
    "roc_score_train = roc_auc_score(y_train, y_proba_train)\n",
    "print(f'roc_auc_score (Train): {roc_score_train:.4f}')\n",
    "print('Model Evaluation:', evaluate_roc_auc(roc_score_train))\n",
    "print('\\n\\nConfusion Matrix - Train Set\\n', cm)"
   ]
  },
  {
   "cell_type": "markdown",
   "id": "2645e809",
   "metadata": {},
   "source": [
    "In this training, we could see that the overall **recall** score is 0.7586. If we look closer, the recall for each **class 0** and **class 2** are 0.72 and 0.76. More important thing is we look at the **class 1**. Having the model correctly captures **76%** the default is a pretty good start.\n",
    "\n",
    "and then **ROC AUC SCORE** for train 0.8064 is a solid score. It means our model distinguishes fairly well between **class 0** and **class 1**."
   ]
  },
  {
   "cell_type": "markdown",
   "id": "653d8e89",
   "metadata": {},
   "source": [
    "### Confusion Matrix - Training Set"
   ]
  },
  {
   "cell_type": "code",
   "execution_count": 79,
   "id": "ce26a296",
   "metadata": {},
   "outputs": [
    {
     "data": {
      "image/png": "[encoded data removed]",
      "text/plain": [
       "<Figure size 640x480 with 2 Axes>"
      ]
     },
     "metadata": {},
     "output_type": "display_data"
    }
   ],
   "source": [
    "# Confusion matrix\n",
    "confusion_matrix_train = confusion_matrix(y_train, y_pred_train)\n",
    "\n",
    "# Plot the confusion matrix\n",
    "disp_train = ConfusionMatrixDisplay(confusion_matrix=confusion_matrix_train, display_labels=lr_cw.classes_)\n",
    "disp_train.plot(cmap=plt.cm.Blues)\n",
    "plt.title('Confusion Matrix - Training Set')\n",
    "plt.show()"
   ]
  },
  {
   "cell_type": "markdown",
   "id": "e17d30be",
   "metadata": {},
   "source": [
    "Model performance based on the training is doing a decent performance in recall when it comes to finding the `default` which is **class 1**. But the model **falsely classified 1,323 non defaulters as default**, which could be a problem. Further test needed to be done to see the real performance. Or maybe we could see how its perform if we use 0.3 threshold."
   ]
  },
  {
   "cell_type": "markdown",
   "id": "e566ac78",
   "metadata": {},
   "source": [
    "### Logistic Regression with class_weight only evaluation training (with threshold 0.3)"
   ]
  },
  {
   "cell_type": "code",
   "execution_count": 166,
   "id": "50557285",
   "metadata": {},
   "outputs": [
    {
     "name": "stdout",
     "output_type": "stream",
     "text": [
      "Recall Score - Train Set (0.3 threshold):  0.9310344827586207 \n",
      "\n",
      "              precision    recall  f1-score   support\n",
      "\n",
      "           0       1.00      0.47      0.64      4742\n",
      "           1       0.02      0.93      0.04        58\n",
      "\n",
      "    accuracy                           0.48      4800\n",
      "   macro avg       0.51      0.70      0.34      4800\n",
      "weighted avg       0.99      0.48      0.63      4800\n",
      "\n",
      "roc_auc_score (Train): 0.8064\n",
      "Model Evaluation: Fair\n",
      "\n",
      "\n",
      "Confusion Matrix - Train Set (0.3 threshold):\n",
      " [[2243 2499]\n",
      " [   4   54]]\n"
     ]
    }
   ],
   "source": [
    "# Make predictions on the training set\n",
    "y_proba_train = lr_cw.predict_proba(X_train)[:, 1]\n",
    "y_pred_thresh = (y_proba_train >= 0.3).astype(int)\n",
    "\n",
    "print('Recall Score - Train Set (0.3 threshold): ', recall_score(y_train, y_pred_thresh), '\\n')\n",
    "print(classification_report(y_train, y_pred_thresh, zero_division=0))\n",
    "\n",
    "cm_train = confusion_matrix(y_train, y_pred_thresh)\n",
    "\n",
    "roc_score_train = roc_auc_score(y_train, y_proba_train)  # Keep this based on proba\n",
    "print(f'roc_auc_score (Train): {roc_score_train:.4f}')\n",
    "print('Model Evaluation:', evaluate_roc_auc(roc_score_train))\n",
    "print('\\n\\nConfusion Matrix - Train Set (0.3 threshold):\\n', cm_train)"
   ]
  },
  {
   "cell_type": "markdown",
   "id": "bdf8ffb1",
   "metadata": {},
   "source": [
    "If we see the performance in training with **0.3 threshold**, we could see that the recall score is really high around **0.93**. With the **ROC_AUC_SCORE** the model is able to distinguished each class fairly well."
   ]
  },
  {
   "cell_type": "markdown",
   "id": "bdd0908d",
   "metadata": {},
   "source": [
    "### Confusion Matrix training (threshold = 0.3)"
   ]
  },
  {
   "cell_type": "code",
   "execution_count": 94,
   "id": "e0e39950",
   "metadata": {},
   "outputs": [
    {
     "data": {
      "image/png": "[encoded data removed]",
      "text/plain": [
       "<Figure size 640x480 with 2 Axes>"
      ]
     },
     "metadata": {},
     "output_type": "display_data"
    }
   ],
   "source": [
    "conf_matrix_thresh = confusion_matrix(y_train, y_pred_thresh)\n",
    "disp_thresh = ConfusionMatrixDisplay(confusion_matrix=conf_matrix_thresh, display_labels=lr_cw.classes_)\n",
    "disp_thresh.plot(cmap=plt.cm.Blues)\n",
    "plt.title('Confusion Matrix - Training (Threshold = 0.3)')\n",
    "plt.show()"
   ]
  },
  {
   "cell_type": "markdown",
   "id": "7f0a8741",
   "metadata": {},
   "source": [
    "The confusion matrix at 0.3 threshold shows that model is highly focused on identifying defaulters, correctly flagging most of them. However, this comes at the cost of misclassifying a large number of non-defaulters. This behavior is expected when lowering the threshold to prioritize recall. But once again, this is the training. Hopefully the test will do better, either with or without threshold."
   ]
  },
  {
   "cell_type": "markdown",
   "id": "800414a0",
   "metadata": {},
   "source": [
    "### Logistic Regression with class_weight only test evaluation"
   ]
  },
  {
   "cell_type": "code",
   "execution_count": 165,
   "id": "cc1dc4fd",
   "metadata": {},
   "outputs": [
    {
     "name": "stdout",
     "output_type": "stream",
     "text": [
      "Recall Score - Test Set   :  0.7333333333333333 \n",
      "\n",
      "              precision    recall  f1-score   support\n",
      "\n",
      "           0       1.00      0.71      0.83      1185\n",
      "           1       0.03      0.73      0.06        15\n",
      "\n",
      "    accuracy                           0.71      1200\n",
      "   macro avg       0.51      0.72      0.44      1200\n",
      "weighted avg       0.98      0.71      0.82      1200\n",
      "\n",
      "roc_auc_score: 0.7965\n",
      "Model Evaluation: Decent\n",
      "\n",
      "\n",
      "Confusion Matrix - Test Set\n",
      " [[837 348]\n",
      " [  4  11]]\n"
     ]
    }
   ],
   "source": [
    "y_pred = lr_cw.predict(X_test)\n",
    "y_proba = lr_cw.predict_proba(X_test)[:, 1]\n",
    "\n",
    "print('Recall Score - Test Set   : ', recall_score(y_test, y_pred), '\\n')\n",
    "print(classification_report(y_test, y_pred, zero_division=0))\n",
    "\n",
    "cm_test = confusion_matrix(y_test, y_pred)\n",
    "\n",
    "roc_score = roc_auc_score(y_test, y_proba)\n",
    "print(f'roc_auc_score: {roc_score:.4f}')\n",
    "print('Model Evaluation:', evaluate_roc_auc(roc_score))\n",
    "print('\\n\\nConfusion Matrix - Test Set\\n', cm_test)"
   ]
  },
  {
   "cell_type": "markdown",
   "id": "c4ab7000",
   "metadata": {},
   "source": [
    "On the test set without threshold, the model able to achieved a recall of **73.3%** for detecting `defaults`, meaning it correctly identified a majority of actual defaulters. This is important in credit risk or defaulters scenarios where **missing a defaulters is costly**. Despite that, model still perform **reasonably well in terms of ROC AUC (0.7965)**, showing that it can distinguished two classes better than random guessing.\n",
    "\n",
    "Overall, this model is still useful for credit risk, especially if the priorities is **to capture as many defaulters as possible**, even at the cost of **rejecting some good customers**. But we should see how the model works if we use **0.3 threshold**."
   ]
  },
  {
   "cell_type": "markdown",
   "id": "34f89a83",
   "metadata": {},
   "source": [
    "### Confusion Matrix - Test Set"
   ]
  },
  {
   "cell_type": "code",
   "execution_count": 139,
   "id": "7b99682f",
   "metadata": {},
   "outputs": [
    {
     "data": {
      "image/png": "[encoded data removed]",
      "text/plain": [
       "<Figure size 640x480 with 2 Axes>"
      ]
     },
     "metadata": {},
     "output_type": "display_data"
    }
   ],
   "source": [
    "# Confusion matrix\n",
    "confusion_matrix_test = confusion_matrix(y_test, y_pred)\n",
    "\n",
    "# Plot the confusion matrix\n",
    "disp_train = ConfusionMatrixDisplay(confusion_matrix=confusion_matrix_test, display_labels=lr_cw.classes_)\n",
    "disp_train.plot(cmap=plt.cm.Blues)\n",
    "plt.title('Confusion Matrix - Test Set')\n",
    "plt.show()"
   ]
  },
  {
   "cell_type": "markdown",
   "id": "2855cf32",
   "metadata": {},
   "source": [
    "Model demonstrates a strong ability to detect `default` with **73.3% recall**, identifying **11 out of 15 actual defaulters** correctly. This is crucial in credit risk context, where missing a defaulter (FN) is more costly than incorrectly rejecting a good customer. However, the model is also predicted **348 non-defaulters as default**.\n",
    "\n",
    "To be fair, model already work fairly well. But, we should see how model performs if we use **threshold = 0.3**."
   ]
  },
  {
   "cell_type": "markdown",
   "id": "928d2e6f",
   "metadata": {},
   "source": [
    "### Logistic Regression with class_weight only test evaluation (with threshold = 0.3)"
   ]
  },
  {
   "cell_type": "code",
   "execution_count": 164,
   "id": "9eb334e5",
   "metadata": {},
   "outputs": [
    {
     "name": "stdout",
     "output_type": "stream",
     "text": [
      "Recall Score - Test Set (0.3 threshold):  0.8666666666666667 \n",
      "\n",
      "              precision    recall  f1-score   support\n",
      "\n",
      "           0       1.00      0.46      0.63      1185\n",
      "           1       0.02      0.87      0.04        15\n",
      "\n",
      "    accuracy                           0.46      1200\n",
      "   macro avg       0.51      0.66      0.33      1200\n",
      "weighted avg       0.98      0.46      0.62      1200\n",
      "\n",
      "roc_auc_score (Test): 0.7965\n",
      "Model Evaluation: Decent\n",
      "\n",
      "\n",
      "Confusion Matrix - Test Set (Threshold = 0.3):\n",
      " [[541 644]\n",
      " [  2  13]]\n"
     ]
    }
   ],
   "source": [
    "# Make predictions on the test set\n",
    "y_proba_test = lr_cw.predict_proba(X_test)[:, 1]\n",
    "y_pred_thresh_test = (y_proba_test >= 0.3).astype(int)\n",
    "\n",
    "print('Recall Score - Test Set (0.3 threshold): ', recall_score(y_test, y_pred_thresh_test), '\\n')\n",
    "print(classification_report(y_test, y_pred_thresh_test, zero_division=0))\n",
    "\n",
    "cm_test = confusion_matrix(y_test, y_pred_thresh_test)\n",
    "\n",
    "roc_score_test = roc_auc_score(y_test, y_proba_test)\n",
    "print(f'roc_auc_score (Test): {roc_score_test:.4f}')\n",
    "print('Model Evaluation:', evaluate_roc_auc(roc_score_test))\n",
    "print('\\n\\nConfusion Matrix - Test Set (Threshold = 0.3):\\n', cm_test)"
   ]
  },
  {
   "cell_type": "markdown",
   "id": "6efb3555",
   "metadata": {},
   "source": [
    "Lowering the classification threshold to 0.3 significantly increased the model's **recall to 86.7%**, meaning it was able to correctly identify **13 out of 15 defaulters**. This is extremely valuable in credit risk, where failing to detect defaulters (FN) could lead to substantial financial loss. It's true that this recall performance came at the cost of **increased false positive (FP)**. But, it's better to losing potential money rather than real money."
   ]
  },
  {
   "cell_type": "markdown",
   "id": "a1bfc827",
   "metadata": {},
   "source": [
    "### Confusion Matrix - Test (threshold = 0.3)"
   ]
  },
  {
   "cell_type": "code",
   "execution_count": 95,
   "id": "3145f228",
   "metadata": {},
   "outputs": [
    {
     "data": {
      "image/png": "[encoded data removed]",
      "text/plain": [
       "<Figure size 640x480 with 2 Axes>"
      ]
     },
     "metadata": {},
     "output_type": "display_data"
    }
   ],
   "source": [
    "conf_matrix_thresh_test = confusion_matrix(y_test, y_pred_thresh_test)\n",
    "disp_thresh = ConfusionMatrixDisplay(confusion_matrix=conf_matrix_thresh_test, display_labels=lr_cw.classes_)\n",
    "disp_thresh.plot(cmap=plt.cm.Blues)\n",
    "plt.title('Confusion Matrix - Test (Threshold = 0.3)')\n",
    "plt.show()"
   ]
  },
  {
   "cell_type": "markdown",
   "id": "8ee6eaed",
   "metadata": {},
   "source": [
    "### Logistic Regression with class_weight = balanced and SMOTE + RandomUnderSampler"
   ]
  },
  {
   "cell_type": "code",
   "execution_count": 124,
   "id": "0b0f158a",
   "metadata": {},
   "outputs": [
    {
     "data": {
      "text/html": [
       "<style>#sk-container-id-8 {\n",
       "  /* Definition of color scheme common for light and dark mode */\n",
       "  --sklearn-color-text: black;\n",
       "  --sklearn-color-line: gray;\n",
       "  /* Definition of color scheme for unfitted estimators */\n",
       "  --sklearn-color-unfitted-level-0: #fff5e6;\n",
       "  --sklearn-color-unfitted-level-1: #f6e4d2;\n",
       "  --sklearn-color-unfitted-level-2: #ffe0b3;\n",
       "  --sklearn-color-unfitted-level-3: chocolate;\n",
       "  /* Definition of color scheme for fitted estimators */\n",
       "  --sklearn-color-fitted-level-0: #f0f8ff;\n",
       "  --sklearn-color-fitted-level-1: #d4ebff;\n",
       "  --sklearn-color-fitted-level-2: #b3dbfd;\n",
       "  --sklearn-color-fitted-level-3: cornflowerblue;\n",
       "\n",
       "  /* Specific color for light theme */\n",
       "  --sklearn-color-text-on-default-background: var(--sg-text-color, var(--theme-code-foreground, var(--jp-content-font-color1, black)));\n",
       "  --sklearn-color-background: var(--sg-background-color, var(--theme-background, var(--jp-layout-color0, white)));\n",
       "  --sklearn-color-border-box: var(--sg-text-color, var(--theme-code-foreground, var(--jp-content-font-color1, black)));\n",
       "  --sklearn-color-icon: #696969;\n",
       "\n",
       "  @media (prefers-color-scheme: dark) {\n",
       "    /* Redefinition of color scheme for dark theme */\n",
       "    --sklearn-color-text-on-default-background: var(--sg-text-color, var(--theme-code-foreground, var(--jp-content-font-color1, white)));\n",
       "    --sklearn-color-background: var(--sg-background-color, var(--theme-background, var(--jp-layout-color0, #111)));\n",
       "    --sklearn-color-border-box: var(--sg-text-color, var(--theme-code-foreground, var(--jp-content-font-color1, white)));\n",
       "    --sklearn-color-icon: #878787;\n",
       "  }\n",
       "}\n",
       "\n",
       "#sk-container-id-8 {\n",
       "  color: var(--sklearn-color-text);\n",
       "}\n",
       "\n",
       "#sk-container-id-8 pre {\n",
       "  padding: 0;\n",
       "}\n",
       "\n",
       "#sk-container-id-8 input.sk-hidden--visually {\n",
       "  border: 0;\n",
       "  clip: rect(1px 1px 1px 1px);\n",
       "  clip: rect(1px, 1px, 1px, 1px);\n",
       "  height: 1px;\n",
       "  margin: -1px;\n",
       "  overflow: hidden;\n",
       "  padding: 0;\n",
       "  position: absolute;\n",
       "  width: 1px;\n",
       "}\n",
       "\n",
       "#sk-container-id-8 div.sk-dashed-wrapped {\n",
       "  border: 1px dashed var(--sklearn-color-line);\n",
       "  margin: 0 0.4em 0.5em 0.4em;\n",
       "  box-sizing: border-box;\n",
       "  padding-bottom: 0.4em;\n",
       "  background-color: var(--sklearn-color-background);\n",
       "}\n",
       "\n",
       "#sk-container-id-8 div.sk-container {\n",
       "  /* jupyter's `normalize.less` sets `[hidden] { display: none; }`\n",
       "     but bootstrap.min.css set `[hidden] { display: none !important; }`\n",
       "     so we also need the `!important` here to be able to override the\n",
       "     default hidden behavior on the sphinx rendered scikit-learn.org.\n",
       "     See: https://github.com/scikit-learn/scikit-learn/issues/21755 */\n",
       "  display: inline-block !important;\n",
       "  position: relative;\n",
       "}\n",
       "\n",
       "#sk-container-id-8 div.sk-text-repr-fallback {\n",
       "  display: none;\n",
       "}\n",
       "\n",
       "div.sk-parallel-item,\n",
       "div.sk-serial,\n",
       "div.sk-item {\n",
       "  /* draw centered vertical line to link estimators */\n",
       "  background-image: linear-gradient(var(--sklearn-color-text-on-default-background), var(--sklearn-color-text-on-default-background));\n",
       "  background-size: 2px 100%;\n",
       "  background-repeat: no-repeat;\n",
       "  background-position: center center;\n",
       "}\n",
       "\n",
       "/* Parallel-specific style estimator block */\n",
       "\n",
       "#sk-container-id-8 div.sk-parallel-item::after {\n",
       "  content: \"\";\n",
       "  width: 100%;\n",
       "  border-bottom: 2px solid var(--sklearn-color-text-on-default-background);\n",
       "  flex-grow: 1;\n",
       "}\n",
       "\n",
       "#sk-container-id-8 div.sk-parallel {\n",
       "  display: flex;\n",
       "  align-items: stretch;\n",
       "  justify-content: center;\n",
       "  background-color: var(--sklearn-color-background);\n",
       "  position: relative;\n",
       "}\n",
       "\n",
       "#sk-container-id-8 div.sk-parallel-item {\n",
       "  display: flex;\n",
       "  flex-direction: column;\n",
       "}\n",
       "\n",
       "#sk-container-id-8 div.sk-parallel-item:first-child::after {\n",
       "  align-self: flex-end;\n",
       "  width: 50%;\n",
       "}\n",
       "\n",
       "#sk-container-id-8 div.sk-parallel-item:last-child::after {\n",
       "  align-self: flex-start;\n",
       "  width: 50%;\n",
       "}\n",
       "\n",
       "#sk-container-id-8 div.sk-parallel-item:only-child::after {\n",
       "  width: 0;\n",
       "}\n",
       "\n",
       "/* Serial-specific style estimator block */\n",
       "\n",
       "#sk-container-id-8 div.sk-serial {\n",
       "  display: flex;\n",
       "  flex-direction: column;\n",
       "  align-items: center;\n",
       "  background-color: var(--sklearn-color-background);\n",
       "  padding-right: 1em;\n",
       "  padding-left: 1em;\n",
       "}\n",
       "\n",
       "\n",
       "/* Toggleable style: style used for estimator/Pipeline/ColumnTransformer box that is\n",
       "clickable and can be expanded/collapsed.\n",
       "- Pipeline and ColumnTransformer use this feature and define the default style\n",
       "- Estimators will overwrite some part of the style using the `sk-estimator` class\n",
       "*/\n",
       "\n",
       "/* Pipeline and ColumnTransformer style (default) */\n",
       "\n",
       "#sk-container-id-8 div.sk-toggleable {\n",
       "  /* Default theme specific background. It is overwritten whether we have a\n",
       "  specific estimator or a Pipeline/ColumnTransformer */\n",
       "  background-color: var(--sklearn-color-background);\n",
       "}\n",
       "\n",
       "/* Toggleable label */\n",
       "#sk-container-id-8 label.sk-toggleable__label {\n",
       "  cursor: pointer;\n",
       "  display: block;\n",
       "  width: 100%;\n",
       "  margin-bottom: 0;\n",
       "  padding: 0.5em;\n",
       "  box-sizing: border-box;\n",
       "  text-align: center;\n",
       "}\n",
       "\n",
       "#sk-container-id-8 label.sk-toggleable__label-arrow:before {\n",
       "  /* Arrow on the left of the label */\n",
       "  content: \"▸\";\n",
       "  float: left;\n",
       "  margin-right: 0.25em;\n",
       "  color: var(--sklearn-color-icon);\n",
       "}\n",
       "\n",
       "#sk-container-id-8 label.sk-toggleable__label-arrow:hover:before {\n",
       "  color: var(--sklearn-color-text);\n",
       "}\n",
       "\n",
       "/* Toggleable content - dropdown */\n",
       "\n",
       "#sk-container-id-8 div.sk-toggleable__content {\n",
       "  max-height: 0;\n",
       "  max-width: 0;\n",
       "  overflow: hidden;\n",
       "  text-align: left;\n",
       "  /* unfitted */\n",
       "  background-color: var(--sklearn-color-unfitted-level-0);\n",
       "}\n",
       "\n",
       "#sk-container-id-8 div.sk-toggleable__content.fitted {\n",
       "  /* fitted */\n",
       "  background-color: var(--sklearn-color-fitted-level-0);\n",
       "}\n",
       "\n",
       "#sk-container-id-8 div.sk-toggleable__content pre {\n",
       "  margin: 0.2em;\n",
       "  border-radius: 0.25em;\n",
       "  color: var(--sklearn-color-text);\n",
       "  /* unfitted */\n",
       "  background-color: var(--sklearn-color-unfitted-level-0);\n",
       "}\n",
       "\n",
       "#sk-container-id-8 div.sk-toggleable__content.fitted pre {\n",
       "  /* unfitted */\n",
       "  background-color: var(--sklearn-color-fitted-level-0);\n",
       "}\n",
       "\n",
       "#sk-container-id-8 input.sk-toggleable__control:checked~div.sk-toggleable__content {\n",
       "  /* Expand drop-down */\n",
       "  max-height: 200px;\n",
       "  max-width: 100%;\n",
       "  overflow: auto;\n",
       "}\n",
       "\n",
       "#sk-container-id-8 input.sk-toggleable__control:checked~label.sk-toggleable__label-arrow:before {\n",
       "  content: \"▾\";\n",
       "}\n",
       "\n",
       "/* Pipeline/ColumnTransformer-specific style */\n",
       "\n",
       "#sk-container-id-8 div.sk-label input.sk-toggleable__control:checked~label.sk-toggleable__label {\n",
       "  color: var(--sklearn-color-text);\n",
       "  background-color: var(--sklearn-color-unfitted-level-2);\n",
       "}\n",
       "\n",
       "#sk-container-id-8 div.sk-label.fitted input.sk-toggleable__control:checked~label.sk-toggleable__label {\n",
       "  background-color: var(--sklearn-color-fitted-level-2);\n",
       "}\n",
       "\n",
       "/* Estimator-specific style */\n",
       "\n",
       "/* Colorize estimator box */\n",
       "#sk-container-id-8 div.sk-estimator input.sk-toggleable__control:checked~label.sk-toggleable__label {\n",
       "  /* unfitted */\n",
       "  background-color: var(--sklearn-color-unfitted-level-2);\n",
       "}\n",
       "\n",
       "#sk-container-id-8 div.sk-estimator.fitted input.sk-toggleable__control:checked~label.sk-toggleable__label {\n",
       "  /* fitted */\n",
       "  background-color: var(--sklearn-color-fitted-level-2);\n",
       "}\n",
       "\n",
       "#sk-container-id-8 div.sk-label label.sk-toggleable__label,\n",
       "#sk-container-id-8 div.sk-label label {\n",
       "  /* The background is the default theme color */\n",
       "  color: var(--sklearn-color-text-on-default-background);\n",
       "}\n",
       "\n",
       "/* On hover, darken the color of the background */\n",
       "#sk-container-id-8 div.sk-label:hover label.sk-toggleable__label {\n",
       "  color: var(--sklearn-color-text);\n",
       "  background-color: var(--sklearn-color-unfitted-level-2);\n",
       "}\n",
       "\n",
       "/* Label box, darken color on hover, fitted */\n",
       "#sk-container-id-8 div.sk-label.fitted:hover label.sk-toggleable__label.fitted {\n",
       "  color: var(--sklearn-color-text);\n",
       "  background-color: var(--sklearn-color-fitted-level-2);\n",
       "}\n",
       "\n",
       "/* Estimator label */\n",
       "\n",
       "#sk-container-id-8 div.sk-label label {\n",
       "  font-family: monospace;\n",
       "  font-weight: bold;\n",
       "  display: inline-block;\n",
       "  line-height: 1.2em;\n",
       "}\n",
       "\n",
       "#sk-container-id-8 div.sk-label-container {\n",
       "  text-align: center;\n",
       "}\n",
       "\n",
       "/* Estimator-specific */\n",
       "#sk-container-id-8 div.sk-estimator {\n",
       "  font-family: monospace;\n",
       "  border: 1px dotted var(--sklearn-color-border-box);\n",
       "  border-radius: 0.25em;\n",
       "  box-sizing: border-box;\n",
       "  margin-bottom: 0.5em;\n",
       "  /* unfitted */\n",
       "  background-color: var(--sklearn-color-unfitted-level-0);\n",
       "}\n",
       "\n",
       "#sk-container-id-8 div.sk-estimator.fitted {\n",
       "  /* fitted */\n",
       "  background-color: var(--sklearn-color-fitted-level-0);\n",
       "}\n",
       "\n",
       "/* on hover */\n",
       "#sk-container-id-8 div.sk-estimator:hover {\n",
       "  /* unfitted */\n",
       "  background-color: var(--sklearn-color-unfitted-level-2);\n",
       "}\n",
       "\n",
       "#sk-container-id-8 div.sk-estimator.fitted:hover {\n",
       "  /* fitted */\n",
       "  background-color: var(--sklearn-color-fitted-level-2);\n",
       "}\n",
       "\n",
       "/* Specification for estimator info (e.g. \"i\" and \"?\") */\n",
       "\n",
       "/* Common style for \"i\" and \"?\" */\n",
       "\n",
       ".sk-estimator-doc-link,\n",
       "a:link.sk-estimator-doc-link,\n",
       "a:visited.sk-estimator-doc-link {\n",
       "  float: right;\n",
       "  font-size: smaller;\n",
       "  line-height: 1em;\n",
       "  font-family: monospace;\n",
       "  background-color: var(--sklearn-color-background);\n",
       "  border-radius: 1em;\n",
       "  height: 1em;\n",
       "  width: 1em;\n",
       "  text-decoration: none !important;\n",
       "  margin-left: 1ex;\n",
       "  /* unfitted */\n",
       "  border: var(--sklearn-color-unfitted-level-1) 1pt solid;\n",
       "  color: var(--sklearn-color-unfitted-level-1);\n",
       "}\n",
       "\n",
       ".sk-estimator-doc-link.fitted,\n",
       "a:link.sk-estimator-doc-link.fitted,\n",
       "a:visited.sk-estimator-doc-link.fitted {\n",
       "  /* fitted */\n",
       "  border: var(--sklearn-color-fitted-level-1) 1pt solid;\n",
       "  color: var(--sklearn-color-fitted-level-1);\n",
       "}\n",
       "\n",
       "/* On hover */\n",
       "div.sk-estimator:hover .sk-estimator-doc-link:hover,\n",
       ".sk-estimator-doc-link:hover,\n",
       "div.sk-label-container:hover .sk-estimator-doc-link:hover,\n",
       ".sk-estimator-doc-link:hover {\n",
       "  /* unfitted */\n",
       "  background-color: var(--sklearn-color-unfitted-level-3);\n",
       "  color: var(--sklearn-color-background);\n",
       "  text-decoration: none;\n",
       "}\n",
       "\n",
       "div.sk-estimator.fitted:hover .sk-estimator-doc-link.fitted:hover,\n",
       ".sk-estimator-doc-link.fitted:hover,\n",
       "div.sk-label-container:hover .sk-estimator-doc-link.fitted:hover,\n",
       ".sk-estimator-doc-link.fitted:hover {\n",
       "  /* fitted */\n",
       "  background-color: var(--sklearn-color-fitted-level-3);\n",
       "  color: var(--sklearn-color-background);\n",
       "  text-decoration: none;\n",
       "}\n",
       "\n",
       "/* Span, style for the box shown on hovering the info icon */\n",
       ".sk-estimator-doc-link span {\n",
       "  display: none;\n",
       "  z-index: 9999;\n",
       "  position: relative;\n",
       "  font-weight: normal;\n",
       "  right: .2ex;\n",
       "  padding: .5ex;\n",
       "  margin: .5ex;\n",
       "  width: min-content;\n",
       "  min-width: 20ex;\n",
       "  max-width: 50ex;\n",
       "  color: var(--sklearn-color-text);\n",
       "  box-shadow: 2pt 2pt 4pt #999;\n",
       "  /* unfitted */\n",
       "  background: var(--sklearn-color-unfitted-level-0);\n",
       "  border: .5pt solid var(--sklearn-color-unfitted-level-3);\n",
       "}\n",
       "\n",
       ".sk-estimator-doc-link.fitted span {\n",
       "  /* fitted */\n",
       "  background: var(--sklearn-color-fitted-level-0);\n",
       "  border: var(--sklearn-color-fitted-level-3);\n",
       "}\n",
       "\n",
       ".sk-estimator-doc-link:hover span {\n",
       "  display: block;\n",
       "}\n",
       "\n",
       "/* \"?\"-specific style due to the `<a>` HTML tag */\n",
       "\n",
       "#sk-container-id-8 a.estimator_doc_link {\n",
       "  float: right;\n",
       "  font-size: 1rem;\n",
       "  line-height: 1em;\n",
       "  font-family: monospace;\n",
       "  background-color: var(--sklearn-color-background);\n",
       "  border-radius: 1rem;\n",
       "  height: 1rem;\n",
       "  width: 1rem;\n",
       "  text-decoration: none;\n",
       "  /* unfitted */\n",
       "  color: var(--sklearn-color-unfitted-level-1);\n",
       "  border: var(--sklearn-color-unfitted-level-1) 1pt solid;\n",
       "}\n",
       "\n",
       "#sk-container-id-8 a.estimator_doc_link.fitted {\n",
       "  /* fitted */\n",
       "  border: var(--sklearn-color-fitted-level-1) 1pt solid;\n",
       "  color: var(--sklearn-color-fitted-level-1);\n",
       "}\n",
       "\n",
       "/* On hover */\n",
       "#sk-container-id-8 a.estimator_doc_link:hover {\n",
       "  /* unfitted */\n",
       "  background-color: var(--sklearn-color-unfitted-level-3);\n",
       "  color: var(--sklearn-color-background);\n",
       "  text-decoration: none;\n",
       "}\n",
       "\n",
       "#sk-container-id-8 a.estimator_doc_link.fitted:hover {\n",
       "  /* fitted */\n",
       "  background-color: var(--sklearn-color-fitted-level-3);\n",
       "}\n",
       "</style><div id=\"sk-container-id-8\" class=\"sk-top-container\"><div class=\"sk-text-repr-fallback\"><pre>Pipeline(steps=[(&#x27;preprocessing&#x27;,\n",
       "                 ColumnTransformer(transformers=[(&#x27;standard_scaler&#x27;,\n",
       "                                                  StandardScaler(),\n",
       "                                                  Index([&#x27;age&#x27;, &#x27;monthly_income&#x27;, &#x27;loan_amount&#x27;, &#x27;previous_defaults&#x27;,\n",
       "       &#x27;credit_score&#x27;],\n",
       "      dtype=&#x27;object&#x27;))])),\n",
       "                (&#x27;smote&#x27;, SMOTE(random_state=20)),\n",
       "                (&#x27;under_sampler&#x27;, RandomUnderSampler(random_state=20)),\n",
       "                (&#x27;classifier&#x27;, LogisticRegression(random_state=20))])</pre><b>In a Jupyter environment, please rerun this cell to show the HTML representation or trust the notebook. <br />On GitHub, the HTML representation is unable to render, please try loading this page with nbviewer.org.</b></div><div class=\"sk-container\" hidden><div class=\"sk-item sk-dashed-wrapped\"><div class=\"sk-label-container\"><div class=\"sk-label fitted sk-toggleable\"><input class=\"sk-toggleable__control sk-hidden--visually\" id=\"sk-estimator-id-44\" type=\"checkbox\" ><label for=\"sk-estimator-id-44\" class=\"sk-toggleable__label fitted sk-toggleable__label-arrow fitted\">&nbsp;Pipeline<span class=\"sk-estimator-doc-link fitted\">i<span>Fitted</span></span></label><div class=\"sk-toggleable__content fitted\"><pre>Pipeline(steps=[(&#x27;preprocessing&#x27;,\n",
       "                 ColumnTransformer(transformers=[(&#x27;standard_scaler&#x27;,\n",
       "                                                  StandardScaler(),\n",
       "                                                  Index([&#x27;age&#x27;, &#x27;monthly_income&#x27;, &#x27;loan_amount&#x27;, &#x27;previous_defaults&#x27;,\n",
       "       &#x27;credit_score&#x27;],\n",
       "      dtype=&#x27;object&#x27;))])),\n",
       "                (&#x27;smote&#x27;, SMOTE(random_state=20)),\n",
       "                (&#x27;under_sampler&#x27;, RandomUnderSampler(random_state=20)),\n",
       "                (&#x27;classifier&#x27;, LogisticRegression(random_state=20))])</pre></div> </div></div><div class=\"sk-serial\"><div class=\"sk-item sk-dashed-wrapped\"><div class=\"sk-label-container\"><div class=\"sk-label fitted sk-toggleable\"><input class=\"sk-toggleable__control sk-hidden--visually\" id=\"sk-estimator-id-45\" type=\"checkbox\" ><label for=\"sk-estimator-id-45\" class=\"sk-toggleable__label fitted sk-toggleable__label-arrow fitted\">&nbsp;preprocessing: ColumnTransformer<a class=\"sk-estimator-doc-link fitted\" rel=\"noreferrer\" target=\"_blank\" href=\"https://scikit-learn.org/1.4/modules/generated/sklearn.compose.ColumnTransformer.html\">?<span>Documentation for preprocessing: ColumnTransformer</span></a></label><div class=\"sk-toggleable__content fitted\"><pre>ColumnTransformer(transformers=[(&#x27;standard_scaler&#x27;, StandardScaler(),\n",
       "                                 Index([&#x27;age&#x27;, &#x27;monthly_income&#x27;, &#x27;loan_amount&#x27;, &#x27;previous_defaults&#x27;,\n",
       "       &#x27;credit_score&#x27;],\n",
       "      dtype=&#x27;object&#x27;))])</pre></div> </div></div><div class=\"sk-parallel\"><div class=\"sk-parallel-item\"><div class=\"sk-item\"><div class=\"sk-label-container\"><div class=\"sk-label fitted sk-toggleable\"><input class=\"sk-toggleable__control sk-hidden--visually\" id=\"sk-estimator-id-46\" type=\"checkbox\" ><label for=\"sk-estimator-id-46\" class=\"sk-toggleable__label fitted sk-toggleable__label-arrow fitted\">standard_scaler</label><div class=\"sk-toggleable__content fitted\"><pre>Index([&#x27;age&#x27;, &#x27;monthly_income&#x27;, &#x27;loan_amount&#x27;, &#x27;previous_defaults&#x27;,\n",
       "       &#x27;credit_score&#x27;],\n",
       "      dtype=&#x27;object&#x27;)</pre></div> </div></div><div class=\"sk-serial\"><div class=\"sk-item\"><div class=\"sk-estimator fitted sk-toggleable\"><input class=\"sk-toggleable__control sk-hidden--visually\" id=\"sk-estimator-id-47\" type=\"checkbox\" ><label for=\"sk-estimator-id-47\" class=\"sk-toggleable__label fitted sk-toggleable__label-arrow fitted\">&nbsp;StandardScaler<a class=\"sk-estimator-doc-link fitted\" rel=\"noreferrer\" target=\"_blank\" href=\"https://scikit-learn.org/1.4/modules/generated/sklearn.preprocessing.StandardScaler.html\">?<span>Documentation for StandardScaler</span></a></label><div class=\"sk-toggleable__content fitted\"><pre>StandardScaler()</pre></div> </div></div></div></div></div></div></div><div class=\"sk-item\"><div class=\"sk-estimator fitted sk-toggleable\"><input class=\"sk-toggleable__control sk-hidden--visually\" id=\"sk-estimator-id-48\" type=\"checkbox\" ><label for=\"sk-estimator-id-48\" class=\"sk-toggleable__label fitted sk-toggleable__label-arrow fitted\">SMOTE</label><div class=\"sk-toggleable__content fitted\"><pre>SMOTE(random_state=20)</pre></div> </div></div><div class=\"sk-item\"><div class=\"sk-estimator fitted sk-toggleable\"><input class=\"sk-toggleable__control sk-hidden--visually\" id=\"sk-estimator-id-49\" type=\"checkbox\" ><label for=\"sk-estimator-id-49\" class=\"sk-toggleable__label fitted sk-toggleable__label-arrow fitted\">RandomUnderSampler</label><div class=\"sk-toggleable__content fitted\"><pre>RandomUnderSampler(random_state=20)</pre></div> </div></div><div class=\"sk-item\"><div class=\"sk-estimator fitted sk-toggleable\"><input class=\"sk-toggleable__control sk-hidden--visually\" id=\"sk-estimator-id-50\" type=\"checkbox\" ><label for=\"sk-estimator-id-50\" class=\"sk-toggleable__label fitted sk-toggleable__label-arrow fitted\">&nbsp;LogisticRegression<a class=\"sk-estimator-doc-link fitted\" rel=\"noreferrer\" target=\"_blank\" href=\"https://scikit-learn.org/1.4/modules/generated/sklearn.linear_model.LogisticRegression.html\">?<span>Documentation for LogisticRegression</span></a></label><div class=\"sk-toggleable__content fitted\"><pre>LogisticRegression(random_state=20)</pre></div> </div></div></div></div></div></div>"
      ],
      "text/plain": [
       "Pipeline(steps=[('preprocessing',\n",
       "                 ColumnTransformer(transformers=[('standard_scaler',\n",
       "                                                  StandardScaler(),\n",
       "                                                  Index(['age', 'monthly_income', 'loan_amount', 'previous_defaults',\n",
       "       'credit_score'],\n",
       "      dtype='object'))])),\n",
       "                ('smote', SMOTE(random_state=20)),\n",
       "                ('under_sampler', RandomUnderSampler(random_state=20)),\n",
       "                ('classifier', LogisticRegression(random_state=20))])"
      ]
     },
     "execution_count": 124,
     "metadata": {},
     "output_type": "execute_result"
    }
   ],
   "source": [
    "# Preprocessing the data\n",
    "preprocessing = ColumnTransformer([\n",
    "    ('standard_scaler', StandardScaler(), num_cols)\n",
    "])\n",
    "\n",
    "# Pipeline for preprocessing and model training\n",
    "lr_cw1 = ImbPipeline([\n",
    "    ('preprocessing', preprocessing),\n",
    "    ('smote', SMOTE(random_state=20)),\n",
    "    ('under_sampler', RandomUnderSampler(random_state=20)),\n",
    "    ('classifier', LogisticRegression(random_state=20, class_weight='balanced'))\n",
    "])\n",
    "\n",
    "# Fit pipeline\n",
    "lr_cw1.fit(X_train, y_train)"
   ]
  },
  {
   "cell_type": "markdown",
   "id": "ea67be09",
   "metadata": {},
   "source": [
    "We will try to see if there is any difference between having **class_weight only vs. combining it with SMOTE and Undersampling**. We will do anything, even if we could get any slight edge between parameters."
   ]
  },
  {
   "cell_type": "markdown",
   "id": "cca60b30",
   "metadata": {},
   "source": [
    "### Logistic Regression with class_weight + SMOTE and Undersampling Training"
   ]
  },
  {
   "cell_type": "code",
   "execution_count": 163,
   "id": "7415c082",
   "metadata": {},
   "outputs": [
    {
     "name": "stdout",
     "output_type": "stream",
     "text": [
      "Recall Score - Train Set   :  0.7758620689655172 \n",
      "\n",
      "              precision    recall  f1-score   support\n",
      "\n",
      "           0       1.00      0.73      0.84      4742\n",
      "           1       0.03      0.78      0.07        58\n",
      "\n",
      "    accuracy                           0.73      4800\n",
      "   macro avg       0.52      0.75      0.45      4800\n",
      "weighted avg       0.98      0.73      0.83      4800\n",
      "\n",
      "roc_auc_score (Train): 0.8058\n",
      "Model Evaluation: Fair\n",
      "\n",
      "\n",
      "Confusion Matrix - Training Set:\n",
      " [[3464 1278]\n",
      " [  13   45]]\n"
     ]
    }
   ],
   "source": [
    "# Make predictions on the training set\n",
    "y_pred_train_1 = lr_cw1.predict(X_train)\n",
    "y_proba_train_1 = lr_cw1.predict_proba(X_train)[:, 1]\n",
    "\n",
    "print('Recall Score - Train Set   : ', recall_score(y_train, y_pred_train_1), '\\n')\n",
    "print(classification_report(y_train, y_pred_train_1, zero_division=0))\n",
    "\n",
    "cm_train_1 = confusion_matrix(y_train, y_pred_train_1)\n",
    "\n",
    "roc_score_train_1 = roc_auc_score(y_train, y_proba_train_1)\n",
    "print(f'roc_auc_score (Train): {roc_score_train_1:.4f}')\n",
    "print('Model Evaluation:', evaluate_roc_auc(roc_score_train_1))\n",
    "print('\\n\\nConfusion Matrix - Training Set:\\n', cm_train_1)"
   ]
  },
  {
   "cell_type": "markdown",
   "id": "e916c7ee",
   "metadata": {},
   "source": [
    "Model is performing as expected for credit risk where **catching defaulters (recall)** is prioritized. So far, there's not a significant difference between using only **class_weight='balanced' versus combining it with SMOTE and undersampling**. However, the combination approach shows **a slight improvement in recall (around 0.02)**, which can be valuable. AThis suggests that while class weighting alone does a solid job, augmenting it with resampling can provide a modest but meaningful edge during training."
   ]
  },
  {
   "cell_type": "markdown",
   "id": "a2e6473d",
   "metadata": {},
   "source": [
    "### Confusion Matrix Training with class_weight + SMOTE and Undersampling"
   ]
  },
  {
   "cell_type": "code",
   "execution_count": 132,
   "id": "d8ea0a20",
   "metadata": {},
   "outputs": [
    {
     "data": {
      "image/png": "[encoded data removed]",
      "text/plain": [
       "<Figure size 640x480 with 2 Axes>"
      ]
     },
     "metadata": {},
     "output_type": "display_data"
    }
   ],
   "source": [
    "# Confusion matrix\n",
    "confusion_matrix_train = confusion_matrix(y_train, y_pred_train_1)\n",
    "\n",
    "# Plot the confusion matrix\n",
    "disp_train = ConfusionMatrixDisplay(confusion_matrix=confusion_matrix_train, display_labels=lr_cw.classes_)\n",
    "disp_train.plot(cmap=plt.cm.Blues)\n",
    "plt.title('Confusion Matrix - Training Set (SMOTE + UnderSampling)')\n",
    "plt.show()"
   ]
  },
  {
   "cell_type": "markdown",
   "id": "8b0188d9",
   "metadata": {},
   "source": [
    "The model is prioritizing recall, which is appropriate for credit risk scenarios where catching defaulters is more important than wrongly flagging good customers. It successfully identifies **45 out of 58 defaulters**, achieving a **recall of 0.78**, while still **misclassifying 13 defaulters**.\n",
    "\n",
    "However, **the trade-off is clear**, a large number of **non-defaulters (1278) are incorrectly flagged as defaulters**. In business terms, this could mean lost potential revenue or frustrated customers, but it's often acceptable in credit risk management where minimizing real financial loss from defaults is the main goal."
   ]
  },
  {
   "cell_type": "markdown",
   "id": "b15e1d78",
   "metadata": {},
   "source": [
    "### Logistic Regression with class_weight + SMOTE and Undersampling Training (threshold = 0.3)"
   ]
  },
  {
   "cell_type": "code",
   "execution_count": 162,
   "id": "9572621a",
   "metadata": {},
   "outputs": [
    {
     "name": "stdout",
     "output_type": "stream",
     "text": [
      "Recall Score - Train Set (0.3 threshold):  0.9137931034482759 \n",
      "\n",
      "              precision    recall  f1-score   support\n",
      "\n",
      "           0       1.00      0.53      0.69      4742\n",
      "           1       0.02      0.91      0.05        58\n",
      "\n",
      "    accuracy                           0.54      4800\n",
      "   macro avg       0.51      0.72      0.37      4800\n",
      "weighted avg       0.99      0.54      0.69      4800\n",
      "\n",
      "roc_auc_score (Train): 0.8058\n",
      "Model Evaluation: Fair\n",
      "\n",
      "\n",
      "Confusion Matrix - Training (Threshold = 0.3):\n",
      " [[2526 2216]\n",
      " [   5   53]]\n"
     ]
    }
   ],
   "source": [
    "# Make predictions on the training set\n",
    "y_proba_train_1 = lr_cw1.predict_proba(X_train)[:, 1]\n",
    "y_pred_thresh_1 = (y_proba_train_1 >= 0.3).astype(int)\n",
    "\n",
    "print('Recall Score - Train Set (0.3 threshold): ', recall_score(y_train, y_pred_thresh_1), '\\n')\n",
    "print(classification_report(y_train, y_pred_thresh_1, zero_division=0))\n",
    "\n",
    "cm = confusion_matrix(y_train, y_pred_thresh_1)\n",
    "\n",
    "roc_score_train = roc_auc_score(y_train, y_proba_train_1)\n",
    "print(f'roc_auc_score (Train): {roc_score_train:.4f}')\n",
    "print('Model Evaluation:', evaluate_roc_auc(roc_score_train))\n",
    "print('\\n\\nConfusion Matrix - Training (Threshold = 0.3):\\n', cm)"
   ]
  },
  {
   "cell_type": "markdown",
   "id": "9f242238",
   "metadata": {},
   "source": [
    "By lowering the threshold to 0.3, model become **more sensitive** to detecting defaulters. Achieving a **very high recall of 91.4%**, which means it successfully captures almost all risky customers. This is ideal in credit risk settings where failing to identify a defaulter can cause real financial loss. **ROC AUC SCore of 0.8056** means that model is doing well. It seems like combining class_weight and SMOTE + undersampling might doing wonders."
   ]
  },
  {
   "cell_type": "markdown",
   "id": "ba242e00",
   "metadata": {},
   "source": [
    "### Confusion Matrix - Train class_weight + SMOTE and Undersampling"
   ]
  },
  {
   "cell_type": "code",
   "execution_count": 138,
   "id": "2cb51472",
   "metadata": {},
   "outputs": [
    {
     "data": {
      "image/png": "[encoded data removed]",
      "text/plain": [
       "<Figure size 640x480 with 2 Axes>"
      ]
     },
     "metadata": {},
     "output_type": "display_data"
    }
   ],
   "source": [
    "conf_matrix_thresh = confusion_matrix(y_train, y_pred_thresh_1)\n",
    "disp_thresh = ConfusionMatrixDisplay(confusion_matrix=conf_matrix_thresh, display_labels=lr_cw.classes_)\n",
    "disp_thresh.plot(cmap=plt.cm.Blues)\n",
    "plt.title('Confusion Matrix - Training (Threshold = 0.3 + Sampling)')\n",
    "plt.show()"
   ]
  },
  {
   "cell_type": "markdown",
   "id": "eede2d10",
   "metadata": {},
   "source": [
    "However, the cost of this aggressive recall is high, **more than 2,200 non-defaulters are incorrectly flagged as high risk (false positives)**, which can result in rejected applications, lost potential business, and damaged customer trust.\n",
    "\n",
    "But keep in mind this is only in training, and hopefully our model could perform better in test set."
   ]
  },
  {
   "cell_type": "markdown",
   "id": "5c6ef051",
   "metadata": {},
   "source": [
    "### Logistic Regression with class weight + SMOTE and Undersampling - Test"
   ]
  },
  {
   "cell_type": "code",
   "execution_count": 161,
   "id": "0f6aac97",
   "metadata": {},
   "outputs": [
    {
     "name": "stdout",
     "output_type": "stream",
     "text": [
      "Recall Score - Test Set   :  0.7333333333333333 \n",
      "\n",
      "              precision    recall  f1-score   support\n",
      "\n",
      "           0       1.00      0.72      0.84      1185\n",
      "           1       0.03      0.73      0.06        15\n",
      "\n",
      "    accuracy                           0.72      1200\n",
      "   macro avg       0.51      0.73      0.45      1200\n",
      "weighted avg       0.98      0.72      0.83      1200\n",
      "\n",
      "roc_auc_score: 0.7938\n",
      "Model Evaluation: Decent\n",
      "\n",
      "\n",
      "Confusion Matrix:\n",
      " [[858 327]\n",
      " [  4  11]]\n"
     ]
    }
   ],
   "source": [
    "y_pred_1 = lr_cw1.predict(X_test)\n",
    "y_proba_1 = lr_cw1.predict_proba(X_test)[:, 1]\n",
    "\n",
    "# Generate confusion matrix\n",
    "cm = confusion_matrix(y_test, y_pred_1)\n",
    "\n",
    "print('Recall Score - Test Set   : ', recall_score(y_test, y_pred_1), '\\n')\n",
    "print(classification_report(y_test, y_pred_1, zero_division=0))\n",
    "\n",
    "roc_score = roc_auc_score(y_test, y_proba_1)\n",
    "print(f'roc_auc_score: {roc_score:.4f}')\n",
    "print('Model Evaluation:', evaluate_roc_auc(roc_score))\n",
    "print('\\n\\nConfusion Matrix:\\n', cm)"
   ]
  },
  {
   "cell_type": "markdown",
   "id": "1ddff9f8",
   "metadata": {},
   "source": [
    "The model maintains **a strong recall of 73.3%** on the test set, meaning it's successfully identifying most actual defaulters. This is important in credit risk scenarios, where catching risky applicants is the priority.\n",
    "\n",
    "The **ROC AUC of 0.7938** indicates the model has good overall discrimination between classes.\n",
    "\n",
    "This version of the model achieves a practical balance, **catching most defaulters while keeping false positives at a tolerable level**. It's a **good fit** for credit risk problems, where minimizing actual financial loss is more critical than avoiding every false alarm.\n",
    "\n",
    "Lets see how it's perform with **threshold 0.3**."
   ]
  },
  {
   "cell_type": "markdown",
   "id": "ee98c610",
   "metadata": {},
   "source": [
    "### Confusion Matrix Test Set with class_weight + SMOTE and Undersampling"
   ]
  },
  {
   "cell_type": "code",
   "execution_count": 146,
   "id": "3cb3e7ae",
   "metadata": {},
   "outputs": [
    {
     "data": {
      "image/png": "[encoded data removed]",
      "text/plain": [
       "<Figure size 640x480 with 2 Axes>"
      ]
     },
     "metadata": {},
     "output_type": "display_data"
    }
   ],
   "source": [
    "# Confusion matrix\n",
    "confusion_matrix_test = confusion_matrix(y_test, y_pred_1)\n",
    "\n",
    "# Plot the confusion matrix\n",
    "disp_test = ConfusionMatrixDisplay(confusion_matrix=confusion_matrix_test, display_labels=lr_cw.classes_)\n",
    "disp_test.plot(cmap=plt.cm.Blues)\n",
    "plt.title('Confusion Matrix - Test Set (SMOTE + UnderSampling)')\n",
    "plt.show()"
   ]
  },
  {
   "cell_type": "markdown",
   "id": "a59a5a7f",
   "metadata": {},
   "source": [
    "The model demonstrates **strong defaulter detection (11 TP vs. only 4 FN)**, which is great for reducing financial risk. However, it comes at the cost of **incorrectly rejecting 327 legitimate customers (FP)**, which could affect business growth and user experience. From a confusion matrix perspective, the model is skewed toward caution. It sacrifices some good customers to ensure defaulters are caught. This may be acceptable in credit risk scenarios, where avoiding real losses is a higher priority than maximizing approvals."
   ]
  },
  {
   "cell_type": "markdown",
   "id": "479e4ffb",
   "metadata": {},
   "source": [
    "### Logistic Regression with class weight + SMOTE and Undersampling - Test (threshold = 0.3)"
   ]
  },
  {
   "cell_type": "code",
   "execution_count": 159,
   "id": "932c785c",
   "metadata": {},
   "outputs": [
    {
     "name": "stdout",
     "output_type": "stream",
     "text": [
      "Recall Score - Test Set (0.3 threshold):  0.8666666666666667 \n",
      "\n",
      "              precision    recall  f1-score   support\n",
      "\n",
      "           0       1.00      0.52      0.68      1185\n",
      "           1       0.02      0.87      0.04        15\n",
      "\n",
      "    accuracy                           0.52      1200\n",
      "   macro avg       0.51      0.69      0.36      1200\n",
      "weighted avg       0.98      0.52      0.67      1200\n",
      "\n",
      "roc_auc_score (Test): 0.7938\n",
      "Model Evaluation: Decent\n",
      "\n",
      "\n",
      "Confusion Matrix:\n",
      " [[614 571]\n",
      " [  2  13]]\n"
     ]
    }
   ],
   "source": [
    "# Make predictions on the test set with threshold\n",
    "y_proba_test_1 = lr_cw1.predict_proba(X_test)[:, 1]\n",
    "y_pred_thresh_test_1 = (y_proba_test_1 >= 0.3).astype(int)\n",
    "\n",
    "# Generate confusion matrix\n",
    "cm = confusion_matrix(y_test, y_pred_thresh_test_1)\n",
    "\n",
    "print('Recall Score - Test Set (0.3 threshold): ', recall_score(y_test, y_pred_thresh_test_1), '\\n')\n",
    "print(classification_report(y_test, y_pred_thresh_test_1, zero_division=0))\n",
    "\n",
    "roc_score_test = roc_auc_score(y_test, y_proba_test_1)\n",
    "print(f'roc_auc_score (Test): {roc_score_test:.4f}')\n",
    "print('Model Evaluation:', evaluate_roc_auc(roc_score_test))\n",
    "\n",
    "print('\\n\\nConfusion Matrix:\\n', cm)"
   ]
  },
  {
   "cell_type": "markdown",
   "id": "3be96b98",
   "metadata": {},
   "source": [
    "The model demonstrates a strong ability to detect actual defaulters, **achieving a high recall of 0.87** on the test set. This suggest it's effective at minimizing false negatives, which is crucial, where missing a defaulters can be costly. However, a low precision means **high number of false positive**, which could means that losing potential money, customer satisfaction, etc.\n",
    "\n",
    "While **ROC AUC score of 0.7938** suggests decent discriminative ability, current **threshold (0.3)** causes model to flag many customers as defaulters. If we compare the ROC AUC score between this and earlier model, **this one is lower, but having more higher recall**."
   ]
  },
  {
   "cell_type": "markdown",
   "id": "c1dd2891",
   "metadata": {},
   "source": [
    "### Confusion Matrix Test Set with class_weight + SMOTE and Undersampling (threshold = 0.3)\n"
   ]
  },
  {
   "cell_type": "code",
   "execution_count": 147,
   "id": "be5426bf",
   "metadata": {},
   "outputs": [
    {
     "data": {
      "image/png": "[encoded data removed]",
      "text/plain": [
       "<Figure size 640x480 with 2 Axes>"
      ]
     },
     "metadata": {},
     "output_type": "display_data"
    }
   ],
   "source": [
    "conf_matrix_thresh_test_1 = confusion_matrix(y_test, y_pred_thresh_test_1)\n",
    "disp_thresh = ConfusionMatrixDisplay(confusion_matrix=conf_matrix_thresh_test_1, display_labels=lr_cw.classes_)\n",
    "disp_thresh.plot(cmap=plt.cm.Blues)\n",
    "plt.title('Confusion Matrix - Test (Threshold = 0.3 + Sampling)')\n",
    "plt.show()\n",
    "\n",
    "print()"
   ]
  },
  {
   "cell_type": "markdown",
   "id": "4ecfc27c",
   "metadata": {},
   "source": [
    "The model successfully identified **13 out of 15 credit defaults**, demonstrating strong **recall performance (86.7%)**. This indicates its effectiveness in capturing high-risk cases, a critical requirement in credit risk assessment. However, the model also produced a high number of false positives, misclassifying many low-risk applicants as high-risk. This could lead to unnecessary credit denials or additional verification processes, impacting customer experience and operational efficiency."
   ]
  },
  {
   "cell_type": "markdown",
   "id": "d8473687",
   "metadata": {},
   "source": [
    "### What can we learn from Logistic Regression"
   ]
  },
  {
   "cell_type": "markdown",
   "id": "acf1c082",
   "metadata": {},
   "source": [
    "Both models are equally effective at **detecting credit defaults**, achieving a recall of 0.87. However, the model that **combines class weight, SMOTE, and undersampling shows better class balance with fewer false positives (571 vs. 644)**. Since recall is our primary evaluation metric, and both models perform equally well in that regard, they are both strong at identifying defaults, **correctly detecting 87% of all default cases**.\n",
    "\n",
    "However, the number of false positives is also important. **Fewer false positives mean less potential revenue loss** and **fewer customer complaints**, as fewer reliable customers are wrongly flagged as high risk. While it's true that avoiding actual losses is more important than missing potential gains, **customer satisfaction is still a key** factor for business sustainability.\n",
    "\n",
    "Incorrectly rejecting low-risk customers can hurt the business, especially if competitors offer more lenient or flexible terms. Therefore, while we may choose to be strict in identifying potential credit risks, we should also consider building mechanisms to **mitigate the impact on falsely flagged customers**, such as offering additional verification steps or quicker re-evaluation processes. This way, **we balance risk control with customer satisfaction**."
   ]
  },
  {
   "cell_type": "markdown",
   "id": "8d0db64f",
   "metadata": {},
   "source": [
    "### GradientBoostingClassifier"
   ]
  }
 ],
 "metadata": {
  "kernelspec": {
   "display_name": "base",
   "language": "python",
   "name": "python3"
  },
  "language_info": {
   "codemirror_mode": {
    "name": "ipython",
    "version": 3
   },
   "file_extension": ".py",
   "mimetype": "text/x-python",
   "name": "python",
   "nbconvert_exporter": "python",
   "pygments_lexer": "ipython3",
   "version": "3.12.4"
  }
 },
 "nbformat": 4,
 "nbformat_minor": 5
}
